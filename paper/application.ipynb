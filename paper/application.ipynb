{
 "cells": [
  {
   "cell_type": "code",
   "execution_count": 2,
   "metadata": {},
   "outputs": [
    {
     "name": "stderr",
     "output_type": "stream",
     "text": [
      "d:\\ProgramData\\envs\\pytorch\\lib\\site-packages\\tqdm\\auto.py:21: TqdmWarning: IProgress not found. Please update jupyter and ipywidgets. See https://ipywidgets.readthedocs.io/en/stable/user_install.html\n",
      "  from .autonotebook import tqdm as notebook_tqdm\n"
     ]
    }
   ],
   "source": [
    "\n",
    "import sys\n",
    "import os\n",
    "# To get the absolute path of the directory where the lgdcnn module is located\n",
    "lgdcnn_dir = r\"D:\\deep\\LGDCNN\"\n",
    "# Add the directory where the lgdcnn module is located to the module search path\n",
    "sys.path.append(lgdcnn_dir)\n",
    "\n",
    "import numpy as np\n",
    "import pandas as pd\n",
    "import torch\n",
    "from lgdcnn.fusion_lstm_dcnn import LGDCNN\n",
    "# from lgdcnn.fusion_lstm_dcnn_v1 import LGDCNN\n",
    "# from crabnet.model_application import Model\n",
    "from lgdcnn.train import Model\n",
    "from lgdcnn.utils.get_compute_device import get_compute_device\n",
    "\n",
    "compute_device = get_compute_device(prefer_last=True)\n",
    "RNG_SEED = 42\n",
    "torch.manual_seed(RNG_SEED)  \n",
    "np.random.seed(RNG_SEED)\n",
    "from sklearn.metrics import roc_auc_score\n",
    "\n",
    "lgdcnn_dir = r\"D:\\deep\\LGDCNN\""
   ]
  },
  {
   "cell_type": "markdown",
   "metadata": {},
   "source": [
    "## train\n"
   ]
  },
  {
   "cell_type": "code",
   "execution_count": 3,
   "metadata": {},
   "outputs": [
    {
     "name": "stdout",
     "output_type": "stream",
     "text": [
      "training: ['aflow__ael_bulk_modulus_vrh', 'aflow__ael_debye_temperature', 'aflow__ael_shear_modulus_vrh', 'aflow__agl_thermal_conductivity_300K', 'aflow__agl_thermal_expansion_300K', 'aflow__Egap', 'aflow__energy_atom', 'CritExam__Ed', 'CritExam__Ef', 'mp_bulk_modulus', 'mp_elastic_anisotropy', 'mp_e_hull', 'mp_mu_b', 'mp_shear_modulus', 'OQMD_Bandgap', 'OQMD_Energy_per_atom', 'OQMD_Formation_Enthalpy', 'OQMD_Volume_per_atom']\n",
      "property: aflow__ael_bulk_modulus_vrh\n",
      "Running on compute device: cuda:0\n",
      "Model size: 8635911 parameters\n",
      "\n"
     ]
    },
    {
     "name": "stderr",
     "output_type": "stream",
     "text": [
      "Generating EDM: 100%|██████████| 3428/3428 [00:00<00:00, 193834.67formulae/s]\n"
     ]
    },
    {
     "name": "stdout",
     "output_type": "stream",
     "text": [
      "loading data with up to 3 elements in the formula\n",
      "training with batchsize 256 (2**8.000)\n"
     ]
    },
    {
     "name": "stderr",
     "output_type": "stream",
     "text": [
      "Generating EDM: 100%|██████████| 732/732 [00:00<00:00, 244192.36formulae/s]"
     ]
    },
    {
     "name": "stdout",
     "output_type": "stream",
     "text": [
      "loading data with up to 3 elements in the formula\n",
      "stepping every 140 training passes, cycling lr every 10 epochs\n",
      "checkin at 20 epochs to match lr scheduler\n"
     ]
    },
    {
     "name": "stderr",
     "output_type": "stream",
     "text": [
      "\n"
     ]
    },
    {
     "name": "stdout",
     "output_type": "stream",
     "text": [
      "Epoch: 0/300 --- train mae: 53 val mae: 54\n",
      "Epoch: 19/300 --- train mae: 10.9 val mae: 13.8\n",
      "Epoch: 39/300 --- train mae: 7.39 val mae: 11.1\n",
      "Epoch: 59/300 --- train mae: 5.17 val mae: 10.4\n",
      "Epoch: 79/300 --- train mae: 3.65 val mae: 10.3\n",
      "Epoch: 99/300 --- train mae: 2.69 val mae: 10.2\n",
      "Epoch: 119/300 --- train mae: 2.15 val mae: 10.1\n",
      "Epoch: 139/300 --- train mae: 1.75 val mae: 9.99\n",
      "Epoch: 159/300 --- train mae: 1.48 val mae: 9.87\n",
      "Epoch: 179/300 --- train mae: 1.25 val mae: 9.82\n",
      "Epoch: 199/300 --- train mae: 1.14 val mae: 9.86\n",
      "Epoch: 219/300 --- train mae: 0.956 val mae: 9.83\n",
      "Epoch: 239/300 --- train mae: 0.911 val mae: 9.84\n",
      "Epoch: 259/300 --- train mae: 0.836 val mae: 9.85\n",
      "Epoch: 279/300 --- train mae: 0.808 val mae: 9.84\n",
      "Epoch: 299/300 --- train mae: 0.72 val mae: 9.79\n",
      "Saving network (aflow__ael_bulk_modulus_vrh) to D:\\deep\\LGDCNN\\models\\Benchmark\\L-G-DCNN-TEST\\aflow__ael_bulk_modulus_vrh.pth\n",
      "=====================================================\n",
      "calculating test mae\n",
      "loading data with up to 3 elements in the formula\n",
      "\n",
      "aflow__ael_bulk_modulus_vrh mae: 8.592\n",
      "calculating val mae\n",
      "loading data with up to 3 elements in the formula\n",
      "\n",
      "aflow__ael_bulk_modulus_vrh mae: 9.792\n",
      "=====================================================\n",
      "property: aflow__ael_debye_temperature\n",
      "Running on compute device: cuda:0\n",
      "Model size: 8635911 parameters\n",
      "\n"
     ]
    },
    {
     "name": "stderr",
     "output_type": "stream",
     "text": [
      "Generating EDM: 100%|██████████| 3428/3428 [00:00<00:00, 215076.43formulae/s]"
     ]
    },
    {
     "name": "stdout",
     "output_type": "stream",
     "text": [
      "loading data with up to 3 elements in the formula\n"
     ]
    },
    {
     "name": "stderr",
     "output_type": "stream",
     "text": [
      "\n"
     ]
    },
    {
     "name": "stdout",
     "output_type": "stream",
     "text": [
      "training with batchsize 256 (2**8.000)\n"
     ]
    },
    {
     "name": "stderr",
     "output_type": "stream",
     "text": [
      "Generating EDM: 100%|██████████| 732/732 [00:00<00:00, 197607.68formulae/s]\n"
     ]
    },
    {
     "name": "stdout",
     "output_type": "stream",
     "text": [
      "loading data with up to 3 elements in the formula\n",
      "stepping every 140 training passes, cycling lr every 10 epochs\n",
      "checkin at 20 epochs to match lr scheduler\n",
      "Epoch: 0/300 --- train mae: 125 val mae: 127\n",
      "Epoch: 19/300 --- train mae: 37.1 val mae: 44.1\n",
      "Epoch: 39/300 --- train mae: 25.5 val mae: 38.9\n",
      "Epoch: 59/300 --- train mae: 16.9 val mae: 37.9\n",
      "Epoch: 79/300 --- train mae: 11.1 val mae: 36.4\n",
      "Epoch: 99/300 --- train mae: 7.23 val mae: 35.9\n",
      "Epoch: 119/300 --- train mae: 5.14 val mae: 35.2\n",
      "Epoch: 139/300 --- train mae: 4.19 val mae: 34.8\n",
      "Epoch: 159/300 --- train mae: 3.4 val mae: 34.8\n",
      "Epoch: 179/300 --- train mae: 3.15 val mae: 34.8\n",
      "Epoch: 199/300 --- train mae: 2.97 val mae: 34.6\n",
      "Epoch: 219/300 --- train mae: 2.65 val mae: 34.5\n",
      "Epoch: 239/300 --- train mae: 2.62 val mae: 34.6\n",
      "Epoch: 259/300 --- train mae: 2.26 val mae: 34.1\n",
      "Epoch: 279/300 --- train mae: 2.28 val mae: 33.8\n",
      "Epoch: 299/300 --- train mae: 2.06 val mae: 34.1\n",
      "Saving network (aflow__ael_debye_temperature) to D:\\deep\\LGDCNN\\models\\Benchmark\\L-G-DCNN-TEST\\aflow__ael_debye_temperature.pth\n",
      "=====================================================\n",
      "calculating test mae\n",
      "loading data with up to 3 elements in the formula\n",
      "\n",
      "aflow__ael_debye_temperature mae: 32.56\n",
      "calculating val mae\n",
      "loading data with up to 3 elements in the formula\n",
      "\n",
      "aflow__ael_debye_temperature mae: 34.03\n",
      "=====================================================\n",
      "property: aflow__ael_shear_modulus_vrh\n",
      "Running on compute device: cuda:0\n",
      "Model size: 8635911 parameters\n",
      "\n"
     ]
    },
    {
     "name": "stderr",
     "output_type": "stream",
     "text": [
      "Generating EDM: 100%|██████████| 3428/3428 [00:00<00:00, 198455.13formulae/s]"
     ]
    },
    {
     "name": "stdout",
     "output_type": "stream",
     "text": [
      "loading data with up to 3 elements in the formula\n"
     ]
    },
    {
     "name": "stderr",
     "output_type": "stream",
     "text": [
      "\n"
     ]
    },
    {
     "name": "stdout",
     "output_type": "stream",
     "text": [
      "training with batchsize 256 (2**8.000)\n"
     ]
    },
    {
     "name": "stderr",
     "output_type": "stream",
     "text": [
      "Generating EDM: 100%|██████████| 732/732 [00:00<00:00, 243901.38formulae/s]\n"
     ]
    },
    {
     "name": "stdout",
     "output_type": "stream",
     "text": [
      "loading data with up to 3 elements in the formula\n",
      "stepping every 140 training passes, cycling lr every 10 epochs\n",
      "checkin at 20 epochs to match lr scheduler\n",
      "Epoch: 0/300 --- train mae: 29.6 val mae: 30\n",
      "Epoch: 19/300 --- train mae: 10.3 val mae: 12.3\n",
      "Epoch: 39/300 --- train mae: 6.89 val mae: 10.9\n",
      "Epoch: 59/300 --- train mae: 4.55 val mae: 10.7\n",
      "Epoch: 79/300 --- train mae: 2.98 val mae: 10.5\n",
      "Epoch: 99/300 --- train mae: 1.96 val mae: 10.4\n",
      "Epoch: 119/300 --- train mae: 1.41 val mae: 10\n",
      "Epoch: 139/300 --- train mae: 1.16 val mae: 10\n",
      "Epoch: 159/300 --- train mae: 0.938 val mae: 9.85\n",
      "Epoch 179 failed to improve.\n",
      "Discarded: 1/5 weight updates ♻🗑️\n",
      "Epoch: 179/300 --- train mae: 0.84 val mae: 9.93\n",
      "Epoch: 199/300 --- train mae: 0.779 val mae: 9.84\n",
      "Epoch: 219/300 --- train mae: 0.671 val mae: 9.8\n",
      "Epoch: 239/300 --- train mae: 0.65 val mae: 9.84\n",
      "Epoch: 259/300 --- train mae: 0.604 val mae: 9.75\n",
      "Epoch: 279/300 --- train mae: 0.53 val mae: 9.64\n",
      "Epoch: 299/300 --- train mae: 0.494 val mae: 9.59\n",
      "Saving network (aflow__ael_shear_modulus_vrh) to D:\\deep\\LGDCNN\\models\\Benchmark\\L-G-DCNN-TEST\\aflow__ael_shear_modulus_vrh.pth\n",
      "=====================================================\n",
      "calculating test mae\n",
      "loading data with up to 3 elements in the formula\n",
      "\n",
      "aflow__ael_shear_modulus_vrh mae: 9.384\n",
      "calculating val mae\n",
      "loading data with up to 3 elements in the formula\n",
      "\n",
      "aflow__ael_shear_modulus_vrh mae: 9.594\n",
      "=====================================================\n",
      "property: aflow__agl_thermal_conductivity_300K\n",
      "Running on compute device: cuda:0\n",
      "Model size: 8635911 parameters\n",
      "\n"
     ]
    },
    {
     "name": "stderr",
     "output_type": "stream",
     "text": [
      "Generating EDM: 100%|██████████| 3422/3422 [00:00<00:00, 203737.63formulae/s]"
     ]
    },
    {
     "name": "stdout",
     "output_type": "stream",
     "text": [
      "loading data with up to 3 elements in the formula\n"
     ]
    },
    {
     "name": "stderr",
     "output_type": "stream",
     "text": [
      "\n"
     ]
    },
    {
     "name": "stdout",
     "output_type": "stream",
     "text": [
      "training with batchsize 256 (2**8.000)\n"
     ]
    },
    {
     "name": "stderr",
     "output_type": "stream",
     "text": [
      "Generating EDM: 100%|██████████| 733/733 [00:00<00:00, 244370.47formulae/s]\n"
     ]
    },
    {
     "name": "stdout",
     "output_type": "stream",
     "text": [
      "loading data with up to 3 elements in the formula\n",
      "stepping every 140 training passes, cycling lr every 10 epochs\n",
      "checkin at 20 epochs to match lr scheduler\n",
      "Epoch: 0/300 --- train mae: 5.44 val mae: 4.9\n",
      "Epoch: 19/300 --- train mae: 2.19 val mae: 2.53\n",
      "Epoch: 39/300 --- train mae: 1.51 val mae: 2.29\n",
      "Epoch: 59/300 --- train mae: 0.925 val mae: 2.18\n",
      "Epoch: 79/300 --- train mae: 0.624 val mae: 2.16\n",
      "Epoch: 99/300 --- train mae: 0.449 val mae: 2.16\n",
      "Epoch 119 failed to improve.\n",
      "Discarded: 1/5 weight updates ♻🗑️\n",
      "Epoch: 119/300 --- train mae: 0.352 val mae: 2.18\n",
      "Epoch: 139/300 --- train mae: 0.287 val mae: 2.16\n",
      "Epoch: 159/300 --- train mae: 0.246 val mae: 2.16\n",
      "Epoch: 179/300 --- train mae: 0.226 val mae: 2.17\n",
      "Epoch: 199/300 --- train mae: 0.2 val mae: 2.15\n",
      "Epoch 219 failed to improve.\n",
      "Discarded: 2/5 weight updates ♻🗑️\n",
      "Epoch: 219/300 --- train mae: 0.18 val mae: 2.17\n",
      "Epoch: 239/300 --- train mae: 0.176 val mae: 2.15\n",
      "Epoch: 259/300 --- train mae: 0.16 val mae: 2.16\n",
      "Epoch 279 failed to improve.\n",
      "Discarded: 3/5 weight updates ♻🗑️\n",
      "Epoch: 279/300 --- train mae: 0.155 val mae: 2.18\n",
      "Epoch 299 failed to improve.\n",
      "Discarded: 4/5 weight updates ♻🗑️\n",
      "Epoch: 299/300 --- train mae: 0.144 val mae: 2.19\n",
      "Saving network (aflow__agl_thermal_conductivity_300K) to D:\\deep\\LGDCNN\\models\\Benchmark\\L-G-DCNN-TEST\\aflow__agl_thermal_conductivity_300K.pth\n",
      "=====================================================\n",
      "calculating test mae\n",
      "loading data with up to 3 elements in the formula\n",
      "\n",
      "aflow__agl_thermal_conductivity_300K mae: 2.267\n",
      "calculating val mae\n",
      "loading data with up to 3 elements in the formula\n",
      "\n",
      "aflow__agl_thermal_conductivity_300K mae: 2.159\n",
      "=====================================================\n",
      "property: aflow__agl_thermal_expansion_300K\n",
      "Running on compute device: cuda:0\n",
      "Model size: 8635911 parameters\n",
      "\n"
     ]
    },
    {
     "name": "stderr",
     "output_type": "stream",
     "text": [
      "Generating EDM: 100%|██████████| 3421/3421 [00:00<00:00, 220220.92formulae/s]\n"
     ]
    },
    {
     "name": "stdout",
     "output_type": "stream",
     "text": [
      "loading data with up to 3 elements in the formula\n",
      "training with batchsize 256 (2**8.000)\n"
     ]
    },
    {
     "name": "stderr",
     "output_type": "stream",
     "text": [
      "Generating EDM: 100%|██████████| 733/733 [00:00<00:00, 244312.21formulae/s]"
     ]
    },
    {
     "name": "stdout",
     "output_type": "stream",
     "text": [
      "loading data with up to 3 elements in the formula\n",
      "stepping every 140 training passes, cycling lr every 10 epochs\n",
      "checkin at 20 epochs to match lr scheduler\n"
     ]
    },
    {
     "name": "stderr",
     "output_type": "stream",
     "text": [
      "\n"
     ]
    },
    {
     "name": "stdout",
     "output_type": "stream",
     "text": [
      "Epoch: 0/300 --- train mae: 2.48e-05 val mae: 2.42e-05\n",
      "Epoch: 19/300 --- train mae: 5.04e-06 val mae: 5.58e-06\n",
      "Epoch: 39/300 --- train mae: 3.33e-06 val mae: 4.48e-06\n",
      "Epoch: 59/300 --- train mae: 2.48e-06 val mae: 4.2e-06\n",
      "Epoch: 79/300 --- train mae: 1.89e-06 val mae: 4.07e-06\n",
      "Epoch: 99/300 --- train mae: 1.54e-06 val mae: 4.04e-06\n",
      "Epoch: 119/300 --- train mae: 1.35e-06 val mae: 4.02e-06\n",
      "Epoch: 139/300 --- train mae: 1.21e-06 val mae: 4e-06\n",
      "Epoch: 159/300 --- train mae: 1.07e-06 val mae: 3.99e-06\n",
      "Epoch: 179/300 --- train mae: 1e-06 val mae: 4.03e-06\n",
      "Epoch: 199/300 --- train mae: 9.09e-07 val mae: 3.98e-06\n",
      "Epoch: 219/300 --- train mae: 8.73e-07 val mae: 3.97e-06\n",
      "Epoch: 239/300 --- train mae: 8e-07 val mae: 3.98e-06\n",
      "Epoch: 259/300 --- train mae: 7.57e-07 val mae: 3.92e-06\n",
      "Epoch 279 failed to improve.\n",
      "Discarded: 1/5 weight updates ♻🗑️\n",
      "Epoch: 279/300 --- train mae: 7.14e-07 val mae: 3.96e-06\n",
      "Epoch: 299/300 --- train mae: 7.29e-07 val mae: 3.97e-06\n",
      "Saving network (aflow__agl_thermal_expansion_300K) to D:\\deep\\LGDCNN\\models\\Benchmark\\L-G-DCNN-TEST\\aflow__agl_thermal_expansion_300K.pth\n",
      "=====================================================\n",
      "calculating test mae\n",
      "loading data with up to 3 elements in the formula\n",
      "\n",
      "aflow__agl_thermal_expansion_300K mae: 3.715e-06\n",
      "calculating val mae\n",
      "loading data with up to 3 elements in the formula\n",
      "\n",
      "aflow__agl_thermal_expansion_300K mae: 3.938e-06\n",
      "=====================================================\n",
      "property: aflow__Egap\n",
      "Running on compute device: cuda:0\n",
      "Model size: 8635911 parameters\n",
      "\n"
     ]
    },
    {
     "name": "stderr",
     "output_type": "stream",
     "text": [
      "Generating EDM: 100%|██████████| 19330/19330 [00:00<00:00, 84128.24formulae/s]\n"
     ]
    },
    {
     "name": "stdout",
     "output_type": "stream",
     "text": [
      "loading data with up to 8 elements in the formula\n",
      "training with batchsize 1024 (2**10.000)\n"
     ]
    },
    {
     "name": "stderr",
     "output_type": "stream",
     "text": [
      "Generating EDM: 100%|██████████| 4125/4125 [00:00<00:00, 123074.93formulae/s]\n"
     ]
    },
    {
     "name": "stdout",
     "output_type": "stream",
     "text": [
      "loading data with up to 8 elements in the formula\n",
      "stepping every 190 training passes, cycling lr every 10 epochs\n",
      "checkin at 20 epochs to match lr scheduler\n",
      "Epoch: 0/300 --- train mae: 1.37 val mae: 1.35\n",
      "Epoch: 19/300 --- train mae: 0.452 val mae: 0.47\n",
      "Epoch: 39/300 --- train mae: 0.326 val mae: 0.381\n",
      "Epoch: 59/300 --- train mae: 0.247 val mae: 0.339\n",
      "Epoch: 79/300 --- train mae: 0.18 val mae: 0.327\n",
      "Epoch: 99/300 --- train mae: 0.126 val mae: 0.321\n",
      "Epoch: 119/300 --- train mae: 0.0893 val mae: 0.318\n",
      "Epoch: 139/300 --- train mae: 0.0657 val mae: 0.319\n",
      "Epoch: 159/300 --- train mae: 0.0504 val mae: 0.32\n",
      "Epoch: 179/300 --- train mae: 0.0405 val mae: 0.318\n",
      "Epoch: 199/300 --- train mae: 0.034 val mae: 0.317\n",
      "Epoch 219 failed to improve.\n",
      "Discarded: 1/5 weight updates ♻🗑️\n",
      "Epoch: 219/300 --- train mae: 0.0303 val mae: 0.32\n",
      "Epoch: 239/300 --- train mae: 0.0268 val mae: 0.318\n",
      "Epoch: 259/300 --- train mae: 0.0246 val mae: 0.318\n",
      "Epoch: 279/300 --- train mae: 0.0232 val mae: 0.314\n",
      "Epoch: 299/300 --- train mae: 0.021 val mae: 0.313\n",
      "Saving network (aflow__Egap) to D:\\deep\\LGDCNN\\models\\Benchmark\\L-G-DCNN-TEST\\aflow__Egap.pth\n",
      "=====================================================\n",
      "calculating test mae\n",
      "loading data with up to 7 elements in the formula\n",
      "\n",
      "aflow__Egap mae: 0.3093\n",
      "calculating val mae\n",
      "loading data with up to 7 elements in the formula\n",
      "\n",
      "aflow__Egap mae: 0.3135\n",
      "=====================================================\n",
      "property: aflow__energy_atom\n",
      "Running on compute device: cuda:0\n",
      "Model size: 8635911 parameters\n",
      "\n"
     ]
    },
    {
     "name": "stderr",
     "output_type": "stream",
     "text": [
      "Generating EDM: 100%|██████████| 19344/19344 [00:00<00:00, 181680.73formulae/s]\n"
     ]
    },
    {
     "name": "stdout",
     "output_type": "stream",
     "text": [
      "loading data with up to 8 elements in the formula\n",
      "training with batchsize 1024 (2**10.000)\n"
     ]
    },
    {
     "name": "stderr",
     "output_type": "stream",
     "text": [
      "Generating EDM: 100%|██████████| 4118/4118 [00:00<00:00, 188655.26formulae/s]"
     ]
    },
    {
     "name": "stdout",
     "output_type": "stream",
     "text": [
      "loading data with up to 8 elements in the formula\n",
      "stepping every 190 training passes, cycling lr every 10 epochs\n",
      "checkin at 20 epochs to match lr scheduler\n"
     ]
    },
    {
     "name": "stderr",
     "output_type": "stream",
     "text": [
      "\n"
     ]
    },
    {
     "name": "stdout",
     "output_type": "stream",
     "text": [
      "Epoch: 0/300 --- train mae: 1.38 val mae: 1.36\n",
      "Epoch: 19/300 --- train mae: 0.179 val mae: 0.183\n",
      "Epoch: 39/300 --- train mae: 0.112 val mae: 0.126\n",
      "Epoch: 59/300 --- train mae: 0.0894 val mae: 0.111\n",
      "Epoch: 79/300 --- train mae: 0.0756 val mae: 0.105\n",
      "Epoch: 99/300 --- train mae: 0.0664 val mae: 0.103\n",
      "Epoch: 119/300 --- train mae: 0.0574 val mae: 0.101\n",
      "Epoch: 139/300 --- train mae: 0.0493 val mae: 0.101\n",
      "Epoch: 159/300 --- train mae: 0.0425 val mae: 0.101\n",
      "Epoch: 179/300 --- train mae: 0.0369 val mae: 0.101\n",
      "Epoch: 199/300 --- train mae: 0.033 val mae: 0.1\n",
      "Epoch: 219/300 --- train mae: 0.0302 val mae: 0.101\n",
      "Epoch: 239/300 --- train mae: 0.0282 val mae: 0.1\n",
      "Epoch: 259/300 --- train mae: 0.0266 val mae: 0.0999\n",
      "Epoch: 279/300 --- train mae: 0.0251 val mae: 0.0996\n",
      "Epoch: 299/300 --- train mae: 0.024 val mae: 0.1\n",
      "Saving network (aflow__energy_atom) to D:\\deep\\LGDCNN\\models\\Benchmark\\L-G-DCNN-TEST\\aflow__energy_atom.pth\n",
      "=====================================================\n",
      "calculating test mae\n",
      "loading data with up to 7 elements in the formula\n",
      "\n",
      "aflow__energy_atom mae: 0.09609\n",
      "calculating val mae\n",
      "loading data with up to 7 elements in the formula\n",
      "\n",
      "aflow__energy_atom mae: 0.09995\n",
      "=====================================================\n",
      "property: CritExam__Ed\n",
      "Running on compute device: cuda:0\n",
      "Model size: 8635911 parameters\n",
      "\n"
     ]
    },
    {
     "name": "stderr",
     "output_type": "stream",
     "text": [
      "Generating EDM: 100%|██████████| 59509/59509 [00:00<00:00, 167730.78formulae/s]\n"
     ]
    },
    {
     "name": "stdout",
     "output_type": "stream",
     "text": [
      "loading data with up to 9 elements in the formula\n",
      "training with batchsize 4096 (2**12.000)\n"
     ]
    },
    {
     "name": "stderr",
     "output_type": "stream",
     "text": [
      "Generating EDM: 100%|██████████| 12752/12752 [00:00<00:00, 175368.91formulae/s]\n"
     ]
    },
    {
     "name": "stdout",
     "output_type": "stream",
     "text": [
      "loading data with up to 9 elements in the formula\n",
      "stepping every 150 training passes, cycling lr every 10 epochs\n",
      "checkin at 20 epochs to match lr scheduler\n",
      "Epoch: 0/300 --- train mae: 0.112 val mae: 0.113\n",
      "Epoch: 19/300 --- train mae: 0.0877 val mae: 0.0895\n",
      "Epoch: 39/300 --- train mae: 0.0638 val mae: 0.0756\n",
      "Epoch: 59/300 --- train mae: 0.0475 val mae: 0.0699\n",
      "Epoch: 79/300 --- train mae: 0.0365 val mae: 0.0681\n",
      "Epoch: 99/300 --- train mae: 0.0289 val mae: 0.0673\n",
      "Epoch: 119/300 --- train mae: 0.0235 val mae: 0.0664\n",
      "Epoch: 139/300 --- train mae: 0.0198 val mae: 0.066\n",
      "Epoch: 159/300 --- train mae: 0.0167 val mae: 0.0656\n",
      "Epoch: 179/300 --- train mae: 0.0146 val mae: 0.0654\n",
      "Epoch: 199/300 --- train mae: 0.013 val mae: 0.0651\n",
      "Epoch: 219/300 --- train mae: 0.0116 val mae: 0.0649\n",
      "Epoch: 239/300 --- train mae: 0.0106 val mae: 0.0648\n",
      "Epoch: 259/300 --- train mae: 0.00965 val mae: 0.0646\n",
      "Epoch: 279/300 --- train mae: 0.00883 val mae: 0.0642\n",
      "Epoch: 299/300 --- train mae: 0.00813 val mae: 0.064\n",
      "Saving network (CritExam__Ed) to D:\\deep\\LGDCNN\\models\\Benchmark\\L-G-DCNN-TEST\\CritExam__Ed.pth\n",
      "=====================================================\n",
      "calculating test mae\n",
      "loading data with up to 8 elements in the formula\n",
      "\n",
      "CritExam__Ed mae: 0.06459\n",
      "calculating val mae\n",
      "loading data with up to 8 elements in the formula\n",
      "\n",
      "CritExam__Ed mae: 0.06405\n",
      "=====================================================\n",
      "property: CritExam__Ef\n",
      "Running on compute device: cuda:0\n",
      "Model size: 8635911 parameters\n",
      "\n"
     ]
    },
    {
     "name": "stderr",
     "output_type": "stream",
     "text": [
      "Generating EDM: 100%|██████████| 59509/59509 [00:00<00:00, 172790.99formulae/s]\n"
     ]
    },
    {
     "name": "stdout",
     "output_type": "stream",
     "text": [
      "loading data with up to 9 elements in the formula\n",
      "training with batchsize 4096 (2**12.000)\n"
     ]
    },
    {
     "name": "stderr",
     "output_type": "stream",
     "text": [
      "Generating EDM: 100%|██████████| 12752/12752 [00:00<00:00, 175574.43formulae/s]\n"
     ]
    },
    {
     "name": "stdout",
     "output_type": "stream",
     "text": [
      "loading data with up to 9 elements in the formula\n",
      "stepping every 150 training passes, cycling lr every 10 epochs\n",
      "checkin at 20 epochs to match lr scheduler\n",
      "Epoch: 0/300 --- train mae: 0.935 val mae: 0.939\n",
      "Epoch: 19/300 --- train mae: 0.16 val mae: 0.159\n",
      "Epoch: 39/300 --- train mae: 0.0962 val mae: 0.101\n",
      "Epoch: 59/300 --- train mae: 0.0715 val mae: 0.0813\n",
      "Epoch: 79/300 --- train mae: 0.058 val mae: 0.0725\n",
      "Epoch: 99/300 --- train mae: 0.0486 val mae: 0.0674\n",
      "Epoch: 119/300 --- train mae: 0.0415 val mae: 0.0649\n",
      "Epoch: 139/300 --- train mae: 0.0358 val mae: 0.0634\n",
      "Epoch: 159/300 --- train mae: 0.0311 val mae: 0.0623\n",
      "Epoch: 179/300 --- train mae: 0.0266 val mae: 0.0614\n",
      "Epoch: 199/300 --- train mae: 0.0229 val mae: 0.0608\n",
      "Epoch: 219/300 --- train mae: 0.0201 val mae: 0.0604\n",
      "Epoch: 239/300 --- train mae: 0.018 val mae: 0.0602\n",
      "Epoch: 259/300 --- train mae: 0.016 val mae: 0.0599\n",
      "Epoch: 279/300 --- train mae: 0.0145 val mae: 0.0598\n",
      "Epoch: 299/300 --- train mae: 0.0133 val mae: 0.0596\n",
      "Saving network (CritExam__Ef) to D:\\deep\\LGDCNN\\models\\Benchmark\\L-G-DCNN-TEST\\CritExam__Ef.pth\n",
      "=====================================================\n",
      "calculating test mae\n",
      "loading data with up to 8 elements in the formula\n",
      "\n",
      "CritExam__Ef mae: 0.06138\n",
      "calculating val mae\n",
      "loading data with up to 8 elements in the formula\n",
      "\n",
      "CritExam__Ef mae: 0.05985\n",
      "=====================================================\n",
      "property: mp_bulk_modulus\n",
      "Running on compute device: cuda:0\n",
      "Model size: 8635911 parameters\n",
      "\n"
     ]
    },
    {
     "name": "stderr",
     "output_type": "stream",
     "text": [
      "Generating EDM: 100%|██████████| 4414/4414 [00:00<00:00, 214112.41formulae/s]\n"
     ]
    },
    {
     "name": "stdout",
     "output_type": "stream",
     "text": [
      "loading data with up to 6 elements in the formula\n",
      "training with batchsize 256 (2**8.000)\n"
     ]
    },
    {
     "name": "stderr",
     "output_type": "stream",
     "text": [
      "Generating EDM: 100%|██████████| 946/946 [00:00<00:00, 204526.37formulae/s]\n"
     ]
    },
    {
     "name": "stdout",
     "output_type": "stream",
     "text": [
      "loading data with up to 6 elements in the formula\n",
      "stepping every 180 training passes, cycling lr every 10 epochs\n",
      "checkin at 20 epochs to match lr scheduler\n",
      "Epoch: 0/300 --- train mae: 58.6 val mae: 57.5\n",
      "Epoch: 19/300 --- train mae: 13.6 val mae: 15.2\n",
      "Epoch: 39/300 --- train mae: 9.09 val mae: 12.9\n",
      "Epoch: 59/300 --- train mae: 6.35 val mae: 12.1\n",
      "Epoch: 79/300 --- train mae: 4.67 val mae: 11.7\n",
      "Epoch: 99/300 --- train mae: 3.73 val mae: 11.7\n",
      "Epoch 119 failed to improve.\n",
      "Discarded: 1/5 weight updates ♻🗑️\n",
      "Epoch: 119/300 --- train mae: 2.99 val mae: 11.8\n",
      "Epoch: 139/300 --- train mae: 2.56 val mae: 11.7\n",
      "Epoch: 159/300 --- train mae: 2.16 val mae: 11.7\n",
      "Epoch: 179/300 --- train mae: 1.83 val mae: 11.6\n",
      "Epoch: 199/300 --- train mae: 1.66 val mae: 11.8\n",
      "Epoch: 219/300 --- train mae: 1.59 val mae: 11.6\n",
      "Epoch: 239/300 --- train mae: 1.5 val mae: 11.6\n",
      "Epoch: 259/300 --- train mae: 1.41 val mae: 11.5\n",
      "Epoch: 279/300 --- train mae: 1.32 val mae: 11.5\n",
      "Epoch: 299/300 --- train mae: 1.25 val mae: 11.6\n",
      "Saving network (mp_bulk_modulus) to D:\\deep\\LGDCNN\\models\\Benchmark\\L-G-DCNN-TEST\\mp_bulk_modulus.pth\n",
      "=====================================================\n",
      "calculating test mae\n",
      "loading data with up to 5 elements in the formula\n",
      "\n",
      "mp_bulk_modulus mae: 10.81\n",
      "calculating val mae\n",
      "loading data with up to 4 elements in the formula\n",
      "\n",
      "mp_bulk_modulus mae: 11.92\n",
      "=====================================================\n",
      "property: mp_elastic_anisotropy\n",
      "Running on compute device: cuda:0\n",
      "Model size: 8635911 parameters\n",
      "\n"
     ]
    },
    {
     "name": "stderr",
     "output_type": "stream",
     "text": [
      "Generating EDM: 100%|██████████| 4431/4431 [00:00<00:00, 97818.67formulae/s]\n"
     ]
    },
    {
     "name": "stdout",
     "output_type": "stream",
     "text": [
      "loading data with up to 6 elements in the formula\n",
      "training with batchsize 256 (2**8.000)\n"
     ]
    },
    {
     "name": "stderr",
     "output_type": "stream",
     "text": [
      "Generating EDM: 100%|██████████| 950/950 [00:00<00:00, 344240.93formulae/s]\n"
     ]
    },
    {
     "name": "stdout",
     "output_type": "stream",
     "text": [
      "loading data with up to 6 elements in the formula\n",
      "stepping every 180 training passes, cycling lr every 10 epochs\n",
      "checkin at 20 epochs to match lr scheduler\n",
      "Epoch: 0/300 --- train mae: 6.68 val mae: 6.72\n",
      "Epoch: 19/300 --- train mae: 6.46 val mae: 6.51\n",
      "Epoch 39 failed to improve.\n",
      "Discarded: 1/5 weight updates ♻🗑️\n",
      "Epoch: 39/300 --- train mae: 6.07 val mae: 6.61\n",
      "Epoch: 59/300 --- train mae: 5.14 val mae: 6.55\n",
      "Epoch: 79/300 --- train mae: 4.59 val mae: 6.6\n",
      "Epoch 99 failed to improve.\n",
      "Discarded: 2/5 weight updates ♻🗑️\n",
      "Epoch: 99/300 --- train mae: 4.25 val mae: 6.59\n",
      "Epoch: 119/300 --- train mae: 3.96 val mae: 6.55\n",
      "Epoch: 139/300 --- train mae: 3.6 val mae: 6.53\n",
      "Epoch: 159/300 --- train mae: 3.37 val mae: 6.53\n",
      "Epoch: 179/300 --- train mae: 3.17 val mae: 6.55\n",
      "Epoch 199 failed to improve.\n",
      "Discarded: 3/5 weight updates ♻🗑️\n",
      "Epoch: 199/300 --- train mae: 3.05 val mae: 6.59\n",
      "Epoch: 219/300 --- train mae: 2.95 val mae: 6.54\n",
      "Epoch: 239/300 --- train mae: 2.85 val mae: 6.51\n",
      "Epoch: 259/300 --- train mae: 2.73 val mae: 6.53\n",
      "Epoch: 279/300 --- train mae: 2.66 val mae: 6.54\n",
      "Epoch: 299/300 --- train mae: 2.6 val mae: 6.56\n",
      "Saving network (mp_elastic_anisotropy) to D:\\deep\\LGDCNN\\models\\Benchmark\\L-G-DCNN-TEST\\mp_elastic_anisotropy.pth\n",
      "=====================================================\n",
      "calculating test mae\n",
      "loading data with up to 5 elements in the formula\n",
      "\n",
      "mp_elastic_anisotropy mae: 8.277\n",
      "calculating val mae\n",
      "loading data with up to 5 elements in the formula\n",
      "\n",
      "mp_elastic_anisotropy mae: 6.526\n",
      "=====================================================\n",
      "property: mp_e_hull\n",
      "Running on compute device: cuda:0\n",
      "Model size: 8635911 parameters\n",
      "\n"
     ]
    },
    {
     "name": "stderr",
     "output_type": "stream",
     "text": [
      "Generating EDM: 100%|██████████| 39663/39663 [00:00<00:00, 173515.86formulae/s]\n"
     ]
    },
    {
     "name": "stdout",
     "output_type": "stream",
     "text": [
      "loading data with up to 8 elements in the formula\n",
      "training with batchsize 2048 (2**11.000)\n"
     ]
    },
    {
     "name": "stderr",
     "output_type": "stream",
     "text": [
      "Generating EDM: 100%|██████████| 8499/8499 [00:00<00:00, 219703.85formulae/s]\n"
     ]
    },
    {
     "name": "stdout",
     "output_type": "stream",
     "text": [
      "loading data with up to 8 elements in the formula\n",
      "stepping every 200 training passes, cycling lr every 10 epochs\n",
      "checkin at 20 epochs to match lr scheduler\n",
      "Epoch: 0/300 --- train mae: 0.19 val mae: 0.202\n",
      "Epoch: 19/300 --- train mae: 0.113 val mae: 0.124\n",
      "Epoch: 39/300 --- train mae: 0.0895 val mae: 0.103\n",
      "Epoch: 59/300 --- train mae: 0.0715 val mae: 0.0973\n",
      "Epoch: 79/300 --- train mae: 0.0614 val mae: 0.096\n",
      "Epoch: 99/300 --- train mae: 0.0529 val mae: 0.0932\n",
      "Epoch 119 failed to improve.\n",
      "Discarded: 1/5 weight updates ♻🗑️\n",
      "Epoch: 119/300 --- train mae: 0.049 val mae: 0.0946\n",
      "Epoch: 139/300 --- train mae: 0.0445 val mae: 0.0924\n",
      "Epoch: 159/300 --- train mae: 0.0406 val mae: 0.0917\n",
      "Epoch: 179/300 --- train mae: 0.0333 val mae: 0.09\n",
      "Epoch 199 failed to improve.\n",
      "Discarded: 2/5 weight updates ♻🗑️\n",
      "Epoch: 199/300 --- train mae: 0.0307 val mae: 0.0914\n",
      "Epoch: 219/300 --- train mae: 0.027 val mae: 0.0901\n",
      "Epoch: 239/300 --- train mae: 0.0283 val mae: 0.0896\n",
      "Epoch: 259/300 --- train mae: 0.024 val mae: 0.0886\n",
      "Epoch: 279/300 --- train mae: 0.0206 val mae: 0.0879\n",
      "Epoch 299 failed to improve.\n",
      "Discarded: 3/5 weight updates ♻🗑️\n",
      "Epoch: 299/300 --- train mae: 0.0246 val mae: 0.0902\n",
      "Saving network (mp_e_hull) to D:\\deep\\LGDCNN\\models\\Benchmark\\L-G-DCNN-TEST\\mp_e_hull.pth\n",
      "=====================================================\n",
      "calculating test mae\n",
      "loading data with up to 8 elements in the formula\n",
      "\n",
      "mp_e_hull mae: 0.08967\n",
      "calculating val mae\n",
      "loading data with up to 7 elements in the formula\n",
      "\n",
      "mp_e_hull mae: 0.08782\n",
      "=====================================================\n",
      "property: mp_mu_b\n",
      "Running on compute device: cuda:0\n",
      "Model size: 8635911 parameters\n",
      "\n"
     ]
    },
    {
     "name": "stderr",
     "output_type": "stream",
     "text": [
      "Generating EDM: 100%|██████████| 39663/39663 [00:00<00:00, 172837.49formulae/s]\n"
     ]
    },
    {
     "name": "stdout",
     "output_type": "stream",
     "text": [
      "loading data with up to 8 elements in the formula\n",
      "training with batchsize 2048 (2**11.000)\n"
     ]
    },
    {
     "name": "stderr",
     "output_type": "stream",
     "text": [
      "Generating EDM: 100%|██████████| 8499/8499 [00:00<00:00, 184745.53formulae/s]\n"
     ]
    },
    {
     "name": "stdout",
     "output_type": "stream",
     "text": [
      "loading data with up to 8 elements in the formula\n",
      "stepping every 200 training passes, cycling lr every 10 epochs\n",
      "checkin at 20 epochs to match lr scheduler\n",
      "Epoch: 0/300 --- train mae: 5.82 val mae: 5.74\n",
      "Epoch: 19/300 --- train mae: 2.83 val mae: 2.84\n",
      "Epoch: 39/300 --- train mae: 2.25 val mae: 2.41\n",
      "Epoch: 59/300 --- train mae: 1.93 val mae: 2.25\n",
      "Epoch: 79/300 --- train mae: 1.61 val mae: 2.15\n",
      "Epoch: 99/300 --- train mae: 1.4 val mae: 2.11\n",
      "Epoch: 119/300 --- train mae: 1.23 val mae: 2.09\n",
      "Epoch: 139/300 --- train mae: 1.1 val mae: 2.09\n",
      "Epoch: 159/300 --- train mae: 0.98 val mae: 2.08\n",
      "Epoch: 179/300 --- train mae: 0.893 val mae: 2.09\n",
      "Epoch: 199/300 --- train mae: 0.816 val mae: 2.1\n",
      "Epoch: 219/300 --- train mae: 0.755 val mae: 2.1\n",
      "Epoch: 239/300 --- train mae: 0.708 val mae: 2.09\n",
      "Epoch: 259/300 --- train mae: 0.665 val mae: 2.09\n",
      "Epoch: 279/300 --- train mae: 0.627 val mae: 2.09\n",
      "Epoch: 299/300 --- train mae: 0.599 val mae: 2.1\n",
      "Saving network (mp_mu_b) to D:\\deep\\LGDCNN\\models\\Benchmark\\L-G-DCNN-TEST\\mp_mu_b.pth\n",
      "=====================================================\n",
      "calculating test mae\n",
      "loading data with up to 8 elements in the formula\n",
      "\n",
      "mp_mu_b mae: 2.127\n",
      "calculating val mae\n",
      "loading data with up to 7 elements in the formula\n",
      "\n",
      "mp_mu_b mae: 2.101\n",
      "=====================================================\n",
      "property: mp_shear_modulus\n",
      "Running on compute device: cuda:0\n",
      "Model size: 8635911 parameters\n",
      "\n"
     ]
    },
    {
     "name": "stderr",
     "output_type": "stream",
     "text": [
      "Generating EDM: 100%|██████████| 4328/4328 [00:00<00:00, 183309.41formulae/s]"
     ]
    },
    {
     "name": "stdout",
     "output_type": "stream",
     "text": [
      "loading data with up to 6 elements in the formula\n"
     ]
    },
    {
     "name": "stderr",
     "output_type": "stream",
     "text": [
      "\n"
     ]
    },
    {
     "name": "stdout",
     "output_type": "stream",
     "text": [
      "training with batchsize 256 (2**8.000)\n"
     ]
    },
    {
     "name": "stderr",
     "output_type": "stream",
     "text": [
      "Generating EDM: 100%|██████████| 928/928 [00:00<00:00, 231781.94formulae/s]\n"
     ]
    },
    {
     "name": "stdout",
     "output_type": "stream",
     "text": [
      "loading data with up to 6 elements in the formula\n",
      "stepping every 170 training passes, cycling lr every 10 epochs\n",
      "checkin at 20 epochs to match lr scheduler\n",
      "Epoch: 0/300 --- train mae: 30.7 val mae: 30.1\n",
      "Epoch: 19/300 --- train mae: 11.4 val mae: 13.7\n",
      "Epoch: 39/300 --- train mae: 7.52 val mae: 12.2\n",
      "Epoch: 59/300 --- train mae: 4.66 val mae: 12.1\n",
      "Epoch: 79/300 --- train mae: 3.15 val mae: 12\n",
      "Epoch: 99/300 --- train mae: 2.2 val mae: 11.9\n",
      "Epoch: 119/300 --- train mae: 1.72 val mae: 11.8\n",
      "Epoch: 139/300 --- train mae: 1.36 val mae: 11.8\n",
      "Epoch: 159/300 --- train mae: 1.15 val mae: 11.7\n",
      "Epoch: 179/300 --- train mae: 0.96 val mae: 11.7\n",
      "Epoch: 199/300 --- train mae: 0.848 val mae: 11.7\n",
      "Epoch: 219/300 --- train mae: 0.778 val mae: 11.6\n",
      "Epoch: 239/300 --- train mae: 0.716 val mae: 11.6\n",
      "Epoch: 259/300 --- train mae: 0.674 val mae: 11.5\n",
      "Epoch: 279/300 --- train mae: 0.619 val mae: 11.6\n",
      "Epoch: 299/300 --- train mae: 0.57 val mae: 11.5\n",
      "Saving network (mp_shear_modulus) to D:\\deep\\LGDCNN\\models\\Benchmark\\L-G-DCNN-TEST\\mp_shear_modulus.pth\n",
      "=====================================================\n",
      "calculating test mae\n",
      "loading data with up to 5 elements in the formula\n",
      "\n",
      "mp_shear_modulus mae: 11.98\n",
      "calculating val mae\n",
      "loading data with up to 4 elements in the formula\n",
      "\n",
      "mp_shear_modulus mae: 11.49\n",
      "=====================================================\n",
      "property: OQMD_Bandgap\n",
      "Running on compute device: cuda:0\n",
      "Model size: 8635911 parameters\n",
      "\n"
     ]
    },
    {
     "name": "stderr",
     "output_type": "stream",
     "text": [
      "Generating EDM: 100%|██████████| 239125/239125 [00:01<00:00, 152831.47formulae/s]\n"
     ]
    },
    {
     "name": "stdout",
     "output_type": "stream",
     "text": [
      "loading data with up to 7 elements in the formula\n",
      "training with batchsize 4096 (2**12.000)\n"
     ]
    },
    {
     "name": "stderr",
     "output_type": "stream",
     "text": [
      "Generating EDM: 100%|██████████| 51241/51241 [00:00<00:00, 170838.52formulae/s]\n"
     ]
    },
    {
     "name": "stdout",
     "output_type": "stream",
     "text": [
      "loading data with up to 7 elements in the formula\n",
      "stepping every 590 training passes, cycling lr every 10 epochs\n",
      "checkin at 20 epochs to match lr scheduler\n",
      "Epoch: 0/300 --- train mae: 0.145 val mae: 0.147\n",
      "Epoch: 19/300 --- train mae: 0.0786 val mae: 0.0826\n",
      "Epoch: 39/300 --- train mae: 0.0608 val mae: 0.0662\n",
      "Epoch: 59/300 --- train mae: 0.0511 val mae: 0.0602\n",
      "Epoch: 79/300 --- train mae: 0.0457 val mae: 0.0567\n",
      "Epoch: 99/300 --- train mae: 0.0411 val mae: 0.0551\n",
      "Epoch: 119/300 --- train mae: 0.0393 val mae: 0.0549\n",
      "Epoch: 139/300 --- train mae: 0.0374 val mae: 0.0535\n",
      "Epoch: 159/300 --- train mae: 0.0339 val mae: 0.0517\n",
      "Epoch: 179/300 --- train mae: 0.0322 val mae: 0.0515\n",
      "Epoch: 199/300 --- train mae: 0.0301 val mae: 0.0505\n",
      "Epoch: 219/300 --- train mae: 0.0277 val mae: 0.049\n",
      "Epoch 239 failed to improve.\n",
      "Discarded: 1/5 weight updates ♻🗑️\n",
      "Epoch: 239/300 --- train mae: 0.028 val mae: 0.0503\n",
      "Epoch: 259/300 --- train mae: 0.025 val mae: 0.0489\n",
      "Epoch: 279/300 --- train mae: 0.0235 val mae: 0.0487\n",
      "Epoch: 299/300 --- train mae: 0.0229 val mae: 0.0482\n",
      "Saving network (OQMD_Bandgap) to D:\\deep\\LGDCNN\\models\\Benchmark\\L-G-DCNN-TEST\\OQMD_Bandgap.pth\n",
      "=====================================================\n",
      "calculating test mae\n",
      "loading data with up to 7 elements in the formula\n",
      "\n",
      "OQMD_Bandgap mae: 0.04584\n",
      "calculating val mae\n",
      "loading data with up to 7 elements in the formula\n",
      "\n",
      "OQMD_Bandgap mae: 0.04816\n",
      "=====================================================\n",
      "property: OQMD_Energy_per_atom\n",
      "Running on compute device: cuda:0\n",
      "Model size: 8635911 parameters\n",
      "\n"
     ]
    },
    {
     "name": "stderr",
     "output_type": "stream",
     "text": [
      "Generating EDM: 100%|██████████| 239190/239190 [00:03<00:00, 76012.31formulae/s]\n"
     ]
    },
    {
     "name": "stdout",
     "output_type": "stream",
     "text": [
      "loading data with up to 7 elements in the formula\n",
      "training with batchsize 4096 (2**12.000)\n"
     ]
    },
    {
     "name": "stderr",
     "output_type": "stream",
     "text": [
      "Generating EDM: 100%|██████████| 51255/51255 [00:00<00:00, 106172.51formulae/s]\n"
     ]
    },
    {
     "name": "stdout",
     "output_type": "stream",
     "text": [
      "loading data with up to 7 elements in the formula\n",
      "stepping every 590 training passes, cycling lr every 10 epochs\n",
      "checkin at 20 epochs to match lr scheduler\n",
      "Epoch: 0/300 --- train mae: 1.54 val mae: 1.54\n",
      "Epoch: 19/300 --- train mae: 0.0804 val mae: 0.0823\n",
      "Epoch: 39/300 --- train mae: 0.0541 val mae: 0.0592\n",
      "Epoch: 59/300 --- train mae: 0.0439 val mae: 0.0515\n",
      "Epoch: 79/300 --- train mae: 0.038 val mae: 0.0476\n"
     ]
    }
   ],
   "source": [
    "def get_model(model_name, mat_prop, classification=False, batch_size=None,\n",
    "              transfer=None, verbose=True):\n",
    "    # Get the TorchedCrabNet architecture loaded\n",
    "    model = Model(LGDCNN(compute_device=compute_device).to(compute_device),\n",
    "                  model_name=f'{mat_prop}', verbose=verbose)\n",
    "\n",
    "    # Train network starting at pretrained weights\n",
    "    if transfer is not None:\n",
    "        model.load_network(f'{transfer}.pth')\n",
    "        model.model_name = f'{mat_prop}'\n",
    "\n",
    "    # Apply BCEWithLogitsLoss to model output if binary classification is True\n",
    "    if classification:\n",
    "        model.classification = True\n",
    "\n",
    "    # Get the datafiles you will learn from\n",
    "    train_data = os.path.join(lgdcnn_dir,\"data\", \"benchmark_data\", mat_prop, 'train.csv') \n",
    "    val_data = os.path.join(lgdcnn_dir,\"data\", \"benchmark_data\", mat_prop, 'val.csv')\n",
    "\n",
    "    # Load the train and validation data before fitting the network\n",
    "    data_size = pd.read_csv(train_data).shape[0]\n",
    "    batch_size = 2**round(np.log2(data_size)-4)\n",
    "    if batch_size < 2**7:\n",
    "        batch_size = 2**7\n",
    "    if batch_size > 2**12:\n",
    "        batch_size = 2**12\n",
    "    # batch_size = 2**7\n",
    "    model.load_data(train_data, batch_size=batch_size, train=True)\n",
    "    print(f'training with batchsize {model.batch_size} '\n",
    "          f'(2**{np.log2(model.batch_size):0.3f})')\n",
    "    model.load_data(val_data, batch_size=batch_size)\n",
    "\n",
    "    # Set the number of epochs, decide if you want a loss curve to be plotted\n",
    "    model.fit(epochs=300, losscurve=False)\n",
    "\n",
    "    # Save the network (saved as f\"{model_name}.pth\")\n",
    "    model.save_network(model_name)\n",
    "    return model\n",
    "\n",
    "\n",
    "def to_csv(output, save_name):\n",
    "    # parse output and save to csv\n",
    "    act, pred, formulae, uncertainty = output\n",
    "    df = pd.DataFrame([formulae, act, pred, uncertainty]).T\n",
    "    df.columns = ['formula', 'actual', 'predicted', 'uncertainty']\n",
    "    save_path = os.path.join(lgdcnn_dir,\"results\", \"Benchmark\") \n",
    "    os.makedirs(save_path, exist_ok=True)\n",
    "    df.to_csv(f'{save_path}/{save_name}', index_label='Index')\n",
    "\n",
    "\n",
    "def load_model(lgdcnn_dir, model_name, mat_prop, classification, file_name, verbose=True):\n",
    "    # Load up a saved network.\n",
    "    model = Model(LGDCNN(compute_device=compute_device).to(compute_device),\n",
    "                  model_name=f'{mat_prop}', verbose=verbose)\n",
    "    model.load_network(model_name, f'{mat_prop}.pth') # multi_lstm_attention_residual_dpcnn_V8_512\n",
    "\n",
    "    # Check if classifcation task\n",
    "    if classification:\n",
    "        model.classification = True\n",
    "\n",
    "    # Load the data you want to predict with\n",
    "    data = os.path.join(lgdcnn_dir,\"data\",\"benchmark_data\",mat_prop,file_name)\n",
    "    # data is reloaded to model.data_loader\n",
    "    model.load_data(data, batch_size=2**9, train=False)\n",
    "    return model\n",
    "\n",
    "\n",
    "def get_results(model):\n",
    "    output = model.predict(model.data_loader)  # predict the data saved here\n",
    "    return model, output\n",
    "\n",
    "\n",
    "def save_results( lgdcnn_dir, model_name, mat_prop, classification, file_name, verbose=True):\n",
    "    model = load_model( lgdcnn_dir, model_name, mat_prop, classification, file_name, verbose=verbose)\n",
    "    model, output = get_results(model)\n",
    "\n",
    "    # Get appropriate metrics for saving to csv\n",
    "    if model.classification:\n",
    "        auc = roc_auc_score(output[0], output[1])\n",
    "        print(f'\\n{mat_prop} ROC AUC: {auc:0.4f}')\n",
    "    else:\n",
    "        mae = np.abs(output[0] - output[1]).mean()\n",
    "        print(f'\\n{mat_prop} mae: {mae:0.4g}')\n",
    "        \n",
    "     # save predictions to a csv\n",
    "    fname = f'{mat_prop}_{file_name.replace(\".csv\", \"\")}_output.csv'\n",
    "    to_csv(output, fname)\n",
    "    return model, mae\n",
    "\n",
    "\n",
    "if __name__ == '__main__':\n",
    "    model_name = \"L-G-DCNN-TEST\"\n",
    "    # Get data to benchmark on\n",
    "    # data_dir = 'data/benchmark_data'\n",
    "    benchmark_data_dir = os.path.join(lgdcnn_dir,\"data\",\"benchmark_data\")\n",
    "    mat_props = os.listdir(benchmark_data_dir)\n",
    "    classification_list = []\n",
    "    print(f'training: {mat_props}')\n",
    "    for mat_prop in mat_props:\n",
    "        classification = False\n",
    "        if mat_prop in classification_list:\n",
    "            classification = True\n",
    "        print(f'property: {mat_prop}')\n",
    "        model = get_model(model_name, mat_prop, classification, verbose=True)\n",
    "        print('=====================================================')\n",
    "        print('calculating test mae')\n",
    "        model_test, t_mae = save_results(lgdcnn_dir,model_name, mat_prop, classification,\n",
    "                                         'test.csv', verbose=False)\n",
    "        print('calculating val mae')\n",
    "        model_val, v_mae = save_results(lgdcnn_dir, model_name, mat_prop, classification,\n",
    "                                        'val.csv', verbose=False)\n",
    "        print('=====================================================')\n"
   ]
  },
  {
   "cell_type": "markdown",
   "metadata": {},
   "source": []
  },
  {
   "cell_type": "markdown",
   "metadata": {},
   "source": []
  },
  {
   "attachments": {},
   "cell_type": "markdown",
   "metadata": {},
   "source": [
    "### application for Element contribution to property prediction as a function of composition"
   ]
  },
  {
   "cell_type": "code",
   "execution_count": null,
   "metadata": {},
   "outputs": [
    {
     "name": "stdout",
     "output_type": "stream",
     "text": [
      "training: ['matbench_mp_gap3']\n",
      "property: matbench_mp_gap3\n",
      "=====================================================\n",
      "=====================================================\n",
      "calculating test mae\n",
      "loading data with up to 2 elements in the formula\n",
      "\n",
      "matbench_mp_gap3 mae: 0.226\n",
      "63\n",
      "=====================================================\n"
     ]
    }
   ],
   "source": [
    "# application 没有get_model就是没有train的过程\n",
    "\n",
    "def load_model(mat_prop, classification, file_name, verbose=True):\n",
    "    # Load up a saved network.\n",
    "    model = Model(LGDCNN(compute_device=compute_device).to(compute_device),\n",
    "                  model_name=f'{mat_prop}', verbose=verbose)\n",
    "    model.load_network(f'{mat_prop}.pth') # multi_lstm_attention_residual_dpcnn_V8_512\n",
    "\n",
    "    # Check if classifcation task\n",
    "    if classification:\n",
    "        model.classification = True\n",
    "\n",
    "    # mat_prop1 = 'MP_e_form'\n",
    "    mat_prop1 = 'Mp_gap'\n",
    "    # mat_prop1 = 'MP'\n",
    "    # mat_prop1 = 'MP_e_above_hull'\n",
    "    # mat_prop1 = 'MP_magnetism'\n",
    "    # mat_prop ='MP_dielectric'\n",
    "    # mat_prop1 = 'MP_Bulk_Modulus'\n",
    "    # mat_prop1 = 'MP_Shear_Modulus'\n",
    "    \n",
    "    # mat_prop1 = 'OQMD_Formation_Enthalpy'\n",
    "    # Load the data you want to predict with\n",
    "    data = f'data/application/{mat_prop1}/{file_name}'\n",
    "    # data is reloaded to model.data_loader\n",
    "    model.load_data(data, batch_size=2**9, train=False)\n",
    "    return model\n",
    "\n",
    "def to_csv(output, save_name):\n",
    "    # parse output and save to csv\n",
    "    act, pred, formulae, uncertainty = output\n",
    "    print(len(formulae))\n",
    "    df = pd.DataFrame([formulae,act, pred,uncertainty]).T\n",
    "    df.columns = [ 'formula','actual', 'predicted', 'uncertainty']\n",
    "    save_path = 'data/application/prediction'\n",
    "    # save_path = 'publication_predictions/onehot_matbench__predictions'\n",
    "    # save_path = 'publication_predictions/random_200_matbench__predictions'\n",
    "    os.makedirs(save_path, exist_ok=True)\n",
    "    df.to_csv(f'{save_path}/{save_name}', index_label='Index')\n",
    "\n",
    "\n",
    "def get_results(model):\n",
    "    output = model.predict(model.data_loader)  # predict the data saved here\n",
    "    return model, output\n",
    "\n",
    "\n",
    "def save_results(mat_prop, classification, file_name, verbose=True):\n",
    "    model = load_model(mat_prop, classification, file_name, verbose=verbose)\n",
    "    model, output = get_results(model)\n",
    "\n",
    "    # Get appropriate metrics for saving to csv\n",
    "    if model.classification:\n",
    "        auc = roc_auc_score(output[0], output[1])\n",
    "        print(f'\\n{mat_prop} ROC AUC: {auc:0.3f}')\n",
    "    else:\n",
    "        mae = np.abs(output[0] - output[1]).mean()\n",
    "        print(f'\\n{mat_prop} mae: {mae:0.3g}')\n",
    "\n",
    "    # save predictions to a csv\n",
    "    fname = f'{mat_prop}_{file_name.replace(\".csv\", \"\")}_crabnet.csv'\n",
    "    to_csv(output, fname)\n",
    "    return model, mae\n",
    "\n",
    "\n",
    "if __name__ == '__main__':\n",
    "    # data_dir = 'data/benchmark_data'\n",
    "    # mat_props = os.listdir(data_dir)\n",
    "    classification_list = []\n",
    "    \n",
    "    # mat_props =  [ 'matbench_mp_gap4', 'mp_bulk_modulus', 'mp_elastic_anisotropy', 'mp_e_hull', \n",
    "    # 'mp_mu_b', 'mp_shear_modulus','matbench_mp_e_form0']\n",
    "    # mat_props = ['OQMD_Formation_Enthalpy']\n",
    "    \n",
    "\n",
    "    mat_props = ['matbench_mp_gap3']\n",
    "    # mat_props = ['MP_Formation_Enthalpy']\n",
    "    print(f'training: {mat_props}')\n",
    "    for mat_prop in mat_props:\n",
    "        classification = False\n",
    "        if mat_prop in classification_list:\n",
    "            classification = True\n",
    "        print(f'property: {mat_prop}')\n",
    "        # model = get_model(mat_prop, classification, verbose=True)\n",
    "\n",
    "        print('=====================================================')\n",
    "        # print('calculating train mae')\n",
    "        # model_train, mae_train = save_results( mat_prop, classification,\n",
    "                                        #   'train.csv', verbose=False)\n",
    "        print('=====================================================')\n",
    "        print('calculating test mae')\n",
    "        model_test, t_mae = save_results(mat_prop, classification,\n",
    "                                        'cu_O_mp_gap.csv', verbose=False)\n",
    "        # print('calculating val mae')\n",
    "        # model_val, v_mae = save_results(mat_prop, classification,\n",
    "                                        # 'val.csv', verbose=False)\n",
    "        print('=====================================================')"
   ]
  },
  {
   "cell_type": "code",
   "execution_count": null,
   "metadata": {},
   "outputs": [],
   "source": []
  },
  {
   "attachments": {},
   "cell_type": "markdown",
   "metadata": {},
   "source": [
    "## test LGDCNN"
   ]
  },
  {
   "cell_type": "code",
   "execution_count": null,
   "metadata": {},
   "outputs": [
    {
     "name": "stdout",
     "output_type": "stream",
     "text": [
      "training: ['aflow__ael_bulk_modulus_vrh', 'aflow__ael_debye_temperature', 'aflow__ael_shear_modulus_vrh', 'aflow__agl_thermal_conductivity_300K', 'aflow__agl_thermal_expansion_300K', 'aflow__Egap', 'aflow__energy_atom', 'CritExam__Ed', 'CritExam__Ef', 'mp_bulk_modulus', 'mp_elastic_anisotropy', 'mp_e_hull', 'mp_mu_b', 'mp_shear_modulus', 'OQMD_Bandgap', 'OQMD_Energy_per_atom', 'OQMD_Formation_Enthalpy', 'OQMD_Volume_per_atom']\n",
      "property: aflow__ael_bulk_modulus_vrh\n",
      "=====================================================\n",
      "calculating test mae\n",
      "L-G-DCNN-v1\n",
      "loading data with up to 3 elements in the formula\n",
      "\n",
      "aflow__ael_bulk_modulus_vrh mae: 8.367\n",
      "property: aflow__ael_debye_temperature\n",
      "=====================================================\n",
      "calculating test mae\n",
      "L-G-DCNN-v1\n",
      "loading data with up to 3 elements in the formula\n",
      "\n",
      "aflow__ael_debye_temperature mae: 33.08\n",
      "property: aflow__ael_shear_modulus_vrh\n",
      "=====================================================\n",
      "calculating test mae\n",
      "L-G-DCNN-v1\n",
      "loading data with up to 3 elements in the formula\n",
      "\n",
      "aflow__ael_shear_modulus_vrh mae: 9.17\n",
      "property: aflow__agl_thermal_conductivity_300K\n",
      "=====================================================\n",
      "calculating test mae\n",
      "L-G-DCNN-v1\n",
      "loading data with up to 3 elements in the formula\n",
      "\n",
      "aflow__agl_thermal_conductivity_300K mae: 2.259\n",
      "property: aflow__agl_thermal_expansion_300K\n",
      "=====================================================\n",
      "calculating test mae\n",
      "L-G-DCNN-v1\n",
      "loading data with up to 3 elements in the formula\n",
      "\n",
      "aflow__agl_thermal_expansion_300K mae: 3.728e-06\n",
      "property: aflow__Egap\n",
      "=====================================================\n",
      "calculating test mae\n",
      "L-G-DCNN-v1\n",
      "loading data with up to 7 elements in the formula\n",
      "\n",
      "aflow__Egap mae: 0.3068\n",
      "property: aflow__energy_atom\n",
      "=====================================================\n",
      "calculating test mae\n",
      "L-G-DCNN-v1\n",
      "loading data with up to 7 elements in the formula\n",
      "\n",
      "aflow__energy_atom mae: 0.09513\n",
      "property: CritExam__Ed\n",
      "=====================================================\n",
      "calculating test mae\n",
      "L-G-DCNN-v1\n",
      "loading data with up to 8 elements in the formula\n",
      "\n",
      "CritExam__Ed mae: 0.06271\n",
      "property: CritExam__Ef\n",
      "=====================================================\n",
      "calculating test mae\n",
      "L-G-DCNN-v1\n",
      "loading data with up to 8 elements in the formula\n",
      "\n",
      "CritExam__Ef mae: 0.05876\n",
      "property: mp_bulk_modulus\n",
      "=====================================================\n",
      "calculating test mae\n",
      "L-G-DCNN-v1\n",
      "loading data with up to 5 elements in the formula\n",
      "\n",
      "mp_bulk_modulus mae: 10.85\n",
      "property: mp_elastic_anisotropy\n",
      "=====================================================\n",
      "calculating test mae\n",
      "L-G-DCNN-v1\n",
      "loading data with up to 5 elements in the formula\n",
      "\n",
      "mp_elastic_anisotropy mae: 8.262\n",
      "property: mp_e_hull\n",
      "=====================================================\n",
      "calculating test mae\n",
      "L-G-DCNN-v1\n",
      "loading data with up to 8 elements in the formula\n",
      "\n",
      "mp_e_hull mae: 0.08592\n",
      "property: mp_mu_b\n",
      "=====================================================\n",
      "calculating test mae\n",
      "L-G-DCNN-v1\n",
      "loading data with up to 8 elements in the formula\n",
      "\n",
      "mp_mu_b mae: 2.114\n",
      "property: mp_shear_modulus\n",
      "=====================================================\n",
      "calculating test mae\n",
      "L-G-DCNN-v1\n",
      "loading data with up to 5 elements in the formula\n",
      "\n",
      "mp_shear_modulus mae: 11.77\n",
      "property: OQMD_Bandgap\n",
      "=====================================================\n",
      "calculating test mae\n",
      "L-G-DCNN-v1\n",
      "loading data with up to 7 elements in the formula\n",
      "\n",
      "OQMD_Bandgap mae: 0.04427\n",
      "property: OQMD_Energy_per_atom\n",
      "=====================================================\n",
      "calculating test mae\n",
      "L-G-DCNN-v1\n",
      "loading data with up to 7 elements in the formula\n",
      "\n",
      "OQMD_Energy_per_atom mae: 0.03476\n",
      "property: OQMD_Formation_Enthalpy\n",
      "=====================================================\n",
      "calculating test mae\n",
      "L-G-DCNN-v1\n",
      "loading data with up to 7 elements in the formula\n",
      "\n",
      "OQMD_Formation_Enthalpy mae: 0.03278\n",
      "property: OQMD_Volume_per_atom\n",
      "=====================================================\n",
      "calculating test mae\n",
      "L-G-DCNN-v1\n",
      "loading data with up to 7 elements in the formula\n",
      "\n",
      "OQMD_Volume_per_atom mae: 0.298\n"
     ]
    }
   ],
   "source": [
    "lgdcnn_dir = r\"D:\\deep\\LGDCNN\"\n",
    "\n",
    "def load_model(model_name, mat_prop, classification, file_name, verbose=True):\n",
    "    # Load up a saved network.\n",
    "    model = Model(LGDCNN(compute_device=compute_device).to(compute_device),\n",
    "                  model_name=f'{mat_prop}', verbose=verbose)\n",
    "    model.load_network(model_name, f'{mat_prop}.pth') \n",
    "\n",
    "    # Check if classifcation task\n",
    "    if classification:\n",
    "        model.classification = True\n",
    "\n",
    "    # Load the data you want to predict with\n",
    "    data = os.path.join(lgdcnn_dir,\"data\",\"benchmark_data\",mat_prop,file_name)\n",
    "    # data is reloaded to model.data_loader\n",
    "    model.load_data(data, batch_size=2**9, train=False)\n",
    "    return model\n",
    "\n",
    "\n",
    "def get_results(model):\n",
    "    output = model.predict(model.data_loader)  # predict the data saved here\n",
    "    return model, output\n",
    "\n",
    "\n",
    "def save_results(model_name, mat_prop, classification, file_name, verbose=True):\n",
    "    model = load_model(model_name, mat_prop, classification, file_name, verbose=verbose)\n",
    "    model, output = get_results(model)\n",
    "\n",
    "    # Get appropriate metrics for saving to csv\n",
    "    if model.classification:\n",
    "        auc = roc_auc_score(output[0], output[1])\n",
    "        print(f'\\n{mat_prop} ROC AUC: {auc:0.4f}')\n",
    "    else:\n",
    "        mae = np.abs(output[0] - output[1]).mean()\n",
    "        print(f'\\n{mat_prop} mae: {mae:0.4g}')\n",
    "\n",
    "    return model, mae\n",
    "\n",
    "\n",
    "if __name__ == '__main__':\n",
    "    # choose model\n",
    "    model_name = \"L-G-DCNN-v1\"\n",
    "    # To construct the path of the benchmark_data folder\n",
    "    benchmark_data_dir = os.path.join(lgdcnn_dir,\"data\",\"benchmark_data\")\n",
    "    mat_props = os.listdir(benchmark_data_dir)\n",
    "    classification_list = []\n",
    "    print(f'training: {mat_props}')\n",
    "    for mat_prop in mat_props:\n",
    "        classification = False\n",
    "        if mat_prop in classification_list:\n",
    "            classification = True\n",
    "        print(f'property: {mat_prop}')\n",
    "        print('=====================================================')\n",
    "        print('calculating test mae')\n",
    "        model_test, t_mae = save_results(model_name, mat_prop, classification,\n",
    "                                         'test.csv', verbose=False)"
   ]
  },
  {
   "attachments": {},
   "cell_type": "markdown",
   "metadata": {},
   "source": [
    "## test"
   ]
  },
  {
   "cell_type": "code",
   "execution_count": null,
   "metadata": {},
   "outputs": [],
   "source": [
    "def load_model(mat_prop, classification, file_name, verbose=True):\n",
    "    # Load up a saved network.\n",
    "    model = Model(CrabNet(compute_device=compute_device).to(compute_device),\n",
    "                  model_name=f'{mat_prop}', verbose=verbose)\n",
    "    model.load_network(f'{mat_prop}.pth') # multi_lstm_attention_residual_dpcnn_V8_512\n",
    "\n",
    "    # Check if classifcation task\n",
    "    if classification:\n",
    "        model.classification = True\n",
    "\n",
    "    # Load the data you want to predict with\n",
    "    data = f'data/benchmark_data/{mat_prop}/{file_name}'\n",
    "    # data = f'data/benchmark_data_eleg/{mat_prop}/{file_name}'\n",
    "    # data is reloaded to model.data_loader\n",
    "    model.load_data(data, batch_size=2**9, train=False)\n",
    "    return model\n",
    "\n",
    "\n",
    "def get_results(model):\n",
    "    output = model.predict(model.data_loader)  # predict the data saved here\n",
    "    return model, output\n",
    "\n",
    "\n",
    "def save_results(mat_prop, classification, file_name, verbose=True):\n",
    "    model = load_model(mat_prop, classification, file_name, verbose=verbose)\n",
    "    model, output = get_results(model)\n",
    "\n",
    "    # Get appropriate metrics for saving to csv\n",
    "    if model.classification:\n",
    "        auc = roc_auc_score(output[0], output[1])\n",
    "        print(f'\\n{mat_prop} ROC AUC: {auc:0.3f}')\n",
    "    else:\n",
    "        mae = np.abs(output[0] - output[1]).mean()\n",
    "        print(f'\\n{mat_prop} mae: {mae:0.3g}')\n",
    "\n",
    "    # save predictions to a csv\n",
    "    fname = f'{mat_prop}_{file_name.replace(\".csv\", \"\")}_output.csv'\n",
    "    # to_csv(output, fname)\n",
    "    return model, mae\n",
    "\n",
    "\n",
    "if __name__ == '__main__':\n",
    "    # Get data to benchmark on\n",
    "    data_dir = 'data/benchmark_data'\n",
    "    mat_props = os.listdir(data_dir)\n",
    "    classification_list = []\n",
    "    print(f'training: {mat_props}')\n",
    "    # mat_props =  [ 'CritExam__Ef','aflow__Egap','aflow__energy_atom','OQMD_Bandgap', 'OQMD_Energy_per_atom']\n",
    "    # mat_props = [ 'OQMD_Energy_per_atom']\n",
    "    for mat_prop in mat_props:\n",
    "        classification = False\n",
    "        if mat_prop in classification_list:\n",
    "            classification = True\n",
    "        print(f'property: {mat_prop}')\n",
    "        # model = get_model(mat_prop, classification, verbose=True)\n",
    "\n",
    "        print('=====================================================')\n",
    "        # print('calculating train mae')\n",
    "        # model_train, mae_train = save_results( mat_prop, classification,\n",
    "                                        #   'train.csv', verbose=False)\n",
    "        print('=====================================================')\n",
    "        print('calculating test mae')\n",
    "        model_test, t_mae = save_results(mat_prop, classification,\n",
    "                                         'test.csv', verbose=False)\n",
    "        # print('calculating val mae')\n",
    "        # model_val, v_mae = save_results(mat_prop, classification,\n",
    "                                        # 'val.csv', verbose=False)\n",
    "        print('=====================================================')"
   ]
  },
  {
   "attachments": {},
   "cell_type": "markdown",
   "metadata": {},
   "source": [
    "## 检查oqmd_delta_e_train 是否包含NULL"
   ]
  },
  {
   "cell_type": "code",
   "execution_count": null,
   "metadata": {},
   "outputs": [],
   "source": [
    "import pandas as pd"
   ]
  },
  {
   "cell_type": "code",
   "execution_count": null,
   "metadata": {},
   "outputs": [
    {
     "data": {
      "text/plain": [
       "formula    0\n",
       "target     0\n",
       "dtype: int64"
      ]
     },
     "execution_count": 6,
     "metadata": {},
     "output_type": "execute_result"
    }
   ],
   "source": [
    "df = pd.read_csv(r'D:\\deep\\CrabNet\\data\\application\\oqmd_delta_e_train.csv')\n",
    "df.isnull().sum()"
   ]
  },
  {
   "attachments": {},
   "cell_type": "markdown",
   "metadata": {},
   "source": [
    "## 获取mp数据库中duo元相图的形成能数据代码"
   ]
  },
  {
   "cell_type": "code",
   "execution_count": null,
   "metadata": {},
   "outputs": [],
   "source": [
    "from pymatgen.ext.matproj import MPRester\n",
    "# from pymatgen.analysis.phase_diagram import PhaseDiagram, PDPlotter\n",
    "import pandas as pdd\n",
    "import os"
   ]
  },
  {
   "cell_type": "code",
   "execution_count": null,
   "metadata": {},
   "outputs": [],
   "source": [
    "# a = MPRester('kQD0riCq7tpsdbWK')\n",
    "# entries = a.get_entries_in_chemsys(['Li', 'Mo', 'O','P'])\n",
    "\n",
    "#With entries, you can do many sophisticated analyses, like creating phase diagrams.\n",
    "# pd = PhaseDiagram(entries)\n",
    "\n",
    "#Let's show all phases, including unstable ones\n",
    "# plotter = PDPlotter(pd, show_unstable=0.2,)\n",
    "# plotter.show()"
   ]
  },
  {
   "cell_type": "code",
   "execution_count": null,
   "metadata": {},
   "outputs": [],
   "source": [
    "a = MPRester('kQD0riCq7tpsdbWK')\n",
    "entries = a.get_entries_in_chemsys(['Ga', 'O'])\n",
    "\n",
    "mat_id = [i.entry_id for i in entries]\n",
    "com = [i.composition.reduced_formula for i in entries]\n",
    "all_data = []\n",
    "for i in mat_id:\n",
    "    data = a.query(criteria={\"task_id\": i}, properties=[\"formation_energy_per_atom\",\"magnetism.total_magnetization_normalized_formula_units\",\"e_above_hull\",\"elasticity.K_VRH\",\"elasticity.G_VRH\",\"band_gap\",\"diel.n\"])\n",
    "    all_data.append(data)\n",
    "\n",
    "e_formation = [i[0]['formation_energy_per_atom'] for i in all_data]\n",
    "total_magnetization = [i[0]['magnetism.total_magnetization_normalized_formula_units'] for i in all_data]\n",
    "e_above_hull = [i[0]['e_above_hull'] for i in all_data]\n",
    "Bulk_Modulus = [i[0]['elasticity.K_VRH'] for i in all_data]\n",
    "Shear_Modulus = [i[0]['elasticity.G_VRH'] for i in all_data]\n",
    "band_gap = [i[0]['band_gap'] for i in all_data]\n",
    "dielectric = [i[0]['diel.n'] for i in all_data]\n",
    "\n",
    "df_all = pdd.DataFrame(dict(zip(['material_id', 'formula', 'formation_energy_per_atom', 'magnetism.total_magnetization_normalized_formula_units','e_above_hull','elasticity.K_VRH','elasticity.G_VRH','band_gap','diel.n'],\n",
    "                               [mat_id, com, e_formation, total_magnetization, e_above_hull, Bulk_Modulus, Shear_Modulus, band_gap, dielectric])))\n",
    "\n",
    "data_dir = rf'D:\\deep\\CrabNet\\data\\application\\MP'\n",
    "seed_ = 'Ga_O_all.csv'  \n",
    "os.makedirs(data_dir, exist_ok=True)\n",
    "df_all.to_csv(rf'{data_dir}/{seed_}', index=False)"
   ]
  },
  {
   "cell_type": "markdown",
   "metadata": {},
   "source": []
  },
  {
   "cell_type": "code",
   "execution_count": null,
   "metadata": {},
   "outputs": [],
   "source": [
    "#This initializes the REST adaptor. You may need to put your own API key in as an arg.\n",
    "from pymatgen.ext.matproj import MPRester\n",
    "from pymatgen.analysis.phase_diagram import PhaseDiagram, PDPlotter\n",
    "import pandas as pdd\n",
    "import os\n",
    "a = MPRester(api_key='kQD0riCq7tpsdbWK') # y9WVXfllm2gQdZ6D4TCsE9w9gWX5VL8r   kQD0riCq7tpsdbWK\n",
    "\n",
    "entries = a.get_entries_in_chemsys(['Al', 'O'])\n",
    "\n",
    "#With entries, you can do many sophisticated analyses, like creating phase diagrams.\n",
    "# pd = PhaseDiagram(entries)\n",
    "\n",
    "#Let's show all phases, including unstable ones\n",
    "# plotter = PDPlotter(pd, show_unstable=0.2,)\n",
    "# plotter.show()"
   ]
  },
  {
   "cell_type": "code",
   "execution_count": null,
   "metadata": {},
   "outputs": [],
   "source": [
    "# diel.n\n",
    "com = [i.composition.reduced_formula for i in entries]\n",
    "\n",
    "diel_m = [a.query(criteria={\"task_id\": i.entry_id}, properties=[\"diel.n\"])[0]['diel.n'] for i in entries]\n",
    "df_shear = pdd.DataFrame(dict(zip(['formula','target'],[ com, diel_m])))\n",
    "\n",
    "data_dir1 = rf'D:\\deep\\CrabNet\\data\\application\\MP_dielectric'\n",
    "seed_1 = 'Mn_O_mp_dielectric.csv'  \n",
    "os.makedirs(data_dir1, exist_ok=True)\n",
    "df_shear.to_csv(rf'{data_dir1}/{seed_1}', index=False)"
   ]
  },
  {
   "cell_type": "markdown",
   "metadata": {},
   "source": []
  },
  {
   "cell_type": "code",
   "execution_count": null,
   "metadata": {},
   "outputs": [],
   "source": [
    "com = [i.composition.reduced_formula for i in entries]\n",
    "\n",
    "# mag = [a.query(criteria={\"task_id\": i.entry_id}, properties=[\"elasticity.K_VRH\"])[0]['elasticity.K_VRH'] for i in entries]\n",
    "# df_ti = pdd.DataFrame(dict(zip(['formula','target'],[ com, mag])))\n",
    "\n",
    "shear_m = [a.query(criteria={\"task_id\": i.entry_id}, properties=[\"elasticity.G_VRH\"])[0]['elasticity.G_VRH'] for i in entries]\n",
    "df_shear = pdd.DataFrame(dict(zip(['formula','target'],[ com, shear_m])))\n",
    "\n",
    "# data_dir = rf'D:\\deep\\CrabNet\\data\\application\\MP_Bulk_Modulus'\n",
    "# seed_ = 'Al_O_mp_bulk_modulus.csv'  \n",
    "# os.makedirs(data_dir, exist_ok=True)\n",
    "# df_ti.to_csv(rf'{data_dir}/{seed_}', index=False)\n",
    "\n",
    "data_dir1 = rf'D:\\deep\\CrabNet\\data\\application\\MP_Shear_Modulus'\n",
    "seed_1 = 'Si_O_mp_shear_modulus.csv'  \n",
    "os.makedirs(data_dir1, exist_ok=True)\n",
    "df_shear.to_csv(rf'{data_dir1}/{seed_1}', index=False)"
   ]
  },
  {
   "cell_type": "code",
   "execution_count": null,
   "metadata": {},
   "outputs": [],
   "source": [
    "a.get_data( entries[20].entry_id, data_type=\"vasp\", prop=\"e_above_hull\")"
   ]
  },
  {
   "cell_type": "code",
   "execution_count": null,
   "metadata": {},
   "outputs": [
    {
     "data": {
      "text/plain": [
       "[{'diel.n': 1.4659358785431238}]"
      ]
     },
     "execution_count": 27,
     "metadata": {},
     "output_type": "execute_result"
    }
   ],
   "source": [
    "data = a.query(criteria={\"task_id\": entries[24].entry_id}, properties=[\"diel.n\"])\n",
    "data"
   ]
  },
  {
   "cell_type": "code",
   "execution_count": null,
   "metadata": {},
   "outputs": [
    {
     "data": {
      "text/plain": [
       "'2020_09_08'"
      ]
     },
     "execution_count": 63,
     "metadata": {},
     "output_type": "execute_result"
    }
   ],
   "source": [
    "a.get_database_version()"
   ]
  },
  {
   "cell_type": "code",
   "execution_count": null,
   "metadata": {},
   "outputs": [
    {
     "data": {
      "text/plain": [
       "-8.50449542"
      ]
     },
     "execution_count": 21,
     "metadata": {},
     "output_type": "execute_result"
    }
   ],
   "source": [
    "entries[0].energy_per_atom"
   ]
  },
  {
   "cell_type": "code",
   "execution_count": null,
   "metadata": {},
   "outputs": [],
   "source": [
    "# delta_e = [pd.get_form_energy_per_atom(i) for i in entries]\n",
    "# com = [i.composition.reduced_formula for i in entries]\n",
    "# e_each_atom = [i.energy_per_atom for i in entries]\n",
    "# mat_id = [i.entry_id for i in entries]\n",
    "\n",
    "# df_ti = pdd.DataFrame(dict(zip(['material_id','formula','form_energy_per_atom', 'energy_per_atom'],\n",
    "# [mat_id, com, delta_e, e_each_atom])))\n",
    "\n",
    "# data_dir = rf'D:\\deep\\CrabNet\\data\\application\\MP_e_form'\n",
    "# seed_ = 'Mn_O_all.csv'  \n",
    "# os.makedirs(data_dir, exist_ok=True)\n",
    "# df_ti.to_csv(rf'{data_dir}/{seed_}', index=False)"
   ]
  },
  {
   "attachments": {},
   "cell_type": "markdown",
   "metadata": {},
   "source": [
    "## 得到 MP数据库中几个关键数据 并保存为.csv"
   ]
  },
  {
   "cell_type": "code",
   "execution_count": null,
   "metadata": {},
   "outputs": [],
   "source": [
    "from pymatgen.ext.matproj import MPRester\n",
    "a = MPRester(api_key='kQD0riCq7tpsdbWK')"
   ]
  },
  {
   "cell_type": "code",
   "execution_count": null,
   "metadata": {},
   "outputs": [],
   "source": [
    "mat_id = [i.entry_id for i in entries]\n",
    "com = [i.composition.reduced_formula for i in entries]\n",
    "all_data = []\n",
    "for i in mat_id:\n",
    "    data = a.query(criteria={\"task_id\": i}, properties=[\"formation_energy_per_atom\", \"magnetism.total_magnetization_normalized_formula_units\",\"e_above_hull\",\"elasticity.K_VRH\",\"elasticity.G_VRH\",\"band_gap\",\"diel.n\"])\n",
    "    all_data.append(data)\n",
    "\n",
    "\n",
    "magnetization_unit = [i[0]['magnetism.total_magnetization'] for i in all_data]\n",
    "e_above_hull = [i[0]['e_above_hull'] for i in all_data]\n",
    "Bulk_Modulus = [i[0]['elasticity.K_VRH'] for i in all_data]\n",
    "Shear_Modulus = [i[0]['elasticity.G_VRH'] for i in all_data]\n",
    "band_gap = [i[0]['band_gap'] for i in all_data]\n",
    "dielectric = [i[0]['diel.n'] for i in all_data]\n",
    "\n",
    "df_all = pdd.DataFrame(dict(zip(['material_id','formula','magnetism.total_magnetization_normalized_formula_units','e_above_hull','elasticity.K_VRH','elasticity.G_VRH','band_gap','diel.n'],\n",
    "                               [mat_id, com, magnetization_unit, e_above_hull, Bulk_Modulus, Shear_Modulus, band_gap, dielectric])))\n",
    "\n",
    "data_dir = rf'D:\\deep\\CrabNet\\data\\application\\MP'\n",
    "seed_ = 'Li_B_O_all.csv'  \n",
    "os.makedirs(data_dir, exist_ok=True)\n",
    "df_all.to_csv(rf'{data_dir}/{seed_}', index=False)"
   ]
  },
  {
   "cell_type": "code",
   "execution_count": null,
   "metadata": {},
   "outputs": [
    {
     "data": {
      "text/plain": [
       "[{'magnetism.total_magnetization': 2.184898,\n",
       "  'e_above_hull': 0.6572110503448272,\n",
       "  'elasticity.K_VRH': None,\n",
       "  'elasticity.G_VRH': None,\n",
       "  'band_gap': 0.0,\n",
       "  'diel.n': None}]"
      ]
     },
     "execution_count": 45,
     "metadata": {},
     "output_type": "execute_result"
    }
   ],
   "source": [
    "all_data[0]"
   ]
  },
  {
   "cell_type": "code",
   "execution_count": null,
   "metadata": {},
   "outputs": [
    {
     "name": "stdout",
     "output_type": "stream",
     "text": [
      "[{'total_magnetization': 1.092449}]\n"
     ]
    }
   ],
   "source": [
    "# \"G_VRH\":Shear Modulus, \"K_VRH\":Bulk Modulus\n",
    "data = m.query(criteria={\"task_id\": entries[0].entry_id}, properties=[\"total_magnetization\"])\n",
    "print(data)"
   ]
  },
  {
   "cell_type": "code",
   "execution_count": null,
   "metadata": {},
   "outputs": [
    {
     "name": "stdout",
     "output_type": "stream",
     "text": [
      "[{'diel.n': None}]\n"
     ]
    }
   ],
   "source": [
    "data = m.query(criteria={\"task_id\": entries[0].entry_id}, properties=[\"diel.n\"])\n",
    "print(data)"
   ]
  },
  {
   "cell_type": "code",
   "execution_count": null,
   "metadata": {},
   "outputs": [
    {
     "data": {
      "text/plain": [
       "'mp-1057139'"
      ]
     },
     "execution_count": 29,
     "metadata": {},
     "output_type": "execute_result"
    }
   ],
   "source": [
    "entries[0].entry_id"
   ]
  },
  {
   "attachments": {},
   "cell_type": "markdown",
   "metadata": {},
   "source": [
    "## train val test 拆分数据集代码"
   ]
  },
  {
   "attachments": {},
   "cell_type": "markdown",
   "metadata": {},
   "source": [
    "#### OQMD band gap train val test 数据集拆分为10份"
   ]
  },
  {
   "cell_type": "code",
   "execution_count": null,
   "metadata": {},
   "outputs": [],
   "source": [
    "from sklearn.model_selection import ShuffleSplit\n",
    "import pandas as pd\n",
    "import os"
   ]
  },
  {
   "cell_type": "code",
   "execution_count": null,
   "metadata": {},
   "outputs": [],
   "source": [
    "# 读取所有的OQMD数据包括 val train and test\n",
    "X_d_test = pd.read_csv(r'D:\\deep\\CrabNet\\data\\benchmark_data\\OQMD_Bandgap\\test.csv')\n",
    "X_d_train = pd.read_csv(r'D:\\deep\\CrabNet\\data\\benchmark_data\\OQMD_Bandgap\\train.csv')\n",
    "X_d_val = pd.read_csv(r'D:\\deep\\CrabNet\\data\\benchmark_data\\OQMD_Bandgap\\val.csv')\n",
    "data_dir = f'data/OQMD/' \n",
    "seed_f_val = 'OQMD_Band_gap_all.csv'\n",
    "\n",
    "X_d_test.to_csv(f'{data_dir}/{seed_f_val}',index=False)\n",
    "X_d_train.to_csv(f'{data_dir}/{seed_f_val}', index=False, header=False, mode='a+')\n",
    "X_d_val.to_csv(f'{data_dir}/{seed_f_val}', index=False, header=False, mode='a+')"
   ]
  },
  {
   "cell_type": "code",
   "execution_count": null,
   "metadata": {},
   "outputs": [],
   "source": [
    "# df = pd.read_csv(r'D:\\deep\\CrabNet\\data\\OQMD\\OQMD_Band_gap_all.csv')\n",
    "df = pd.read_csv(r'D:\\deep\\CrabNet\\data\\OQMD\\0005\\gap_0005.csv')\n",
    "df_gap = df['target'].values\n",
    "df_formula = df['formula'].values\n",
    "\n",
    "rs = ShuffleSplit(n_splits=1, test_size=0.1)\n",
    "for train_index, test_index in rs.split(df_gap):\n",
    "    delta_e_train = df_gap[train_index]\n",
    "    delta_e_test = df_gap[test_index]\n",
    "\n",
    "    com_train = df_formula[train_index]\n",
    "    com_test = df_formula[test_index]\n",
    "\n",
    "df_test = pd.DataFrame(dict(zip(['formula', 'target'],[com_test, delta_e_test])))\n",
    "data_dir = f'data/OQMD/0005' \n",
    "name = 'test.csv'\n",
    "os.makedirs(data_dir, exist_ok=True)\n",
    "df_test.to_csv(f'{data_dir}/{name}', index=False)"
   ]
  },
  {
   "cell_type": "code",
   "execution_count": null,
   "metadata": {},
   "outputs": [],
   "source": [
    "rs1 = ShuffleSplit(n_splits=1, test_size=0.111)\n",
    "\n",
    "for train_index, val_index in rs1.split(delta_e_train):\n",
    "    train = delta_e_train[train_index]\n",
    "    val = delta_e_train[val_index]\n",
    "\n",
    "    composition_train = com_train[train_index]\n",
    "    composition_val = com_train[val_index]\n",
    "\n",
    "df_train = pd.DataFrame(dict(zip(['formula', 'target'],[composition_train, train])))\n",
    "name1 = 'train.csv'\n",
    "os.makedirs(data_dir, exist_ok=True)\n",
    "df_train.to_csv(f'{data_dir}/{name1}', index=False)\n",
    "\n",
    "df_val = pd.DataFrame(dict(zip(['formula', 'target'],[composition_val, val])))\n",
    "name2 = 'val.csv'\n",
    "os.makedirs(data_dir, exist_ok=True)\n",
    "df_val.to_csv(f'{data_dir}/{name2}', index=False)"
   ]
  },
  {
   "cell_type": "markdown",
   "metadata": {},
   "source": []
  },
  {
   "cell_type": "code",
   "execution_count": null,
   "metadata": {},
   "outputs": [],
   "source": [
    "# df = pd.read_csv(r'D:\\deep\\CrabNet\\data\\OQMD\\OQMD_Band_gap_all.csv')\n",
    "df = pd.read_csv(r'D:\\deep\\CrabNet\\data\\application\\transfer\\mp-non-metals.csv')\n",
    "df_gap = df['target'].values\n",
    "df_formula = df['formula'].values\n",
    "\n",
    "rs = ShuffleSplit(n_splits=1, test_size=0.2)\n",
    "for train_index, test_index in rs.split(df_gap):\n",
    "    delta_e_train = df_gap[train_index]\n",
    "    delta_e_test = df_gap[test_index]\n",
    "\n",
    "    com_train = df_formula[train_index]\n",
    "    com_test = df_formula[test_index]\n",
    "\n",
    "df_test = pd.DataFrame(dict(zip(['formula', 'target'],[com_test, delta_e_test])))\n",
    "data_dir = f'data/application/transfer' \n",
    "name = 'test.csv'\n",
    "os.makedirs(data_dir, exist_ok=True)\n",
    "df_test.to_csv(f'{data_dir}/{name}', index=False)  "
   ]
  },
  {
   "cell_type": "code",
   "execution_count": null,
   "metadata": {},
   "outputs": [],
   "source": [
    "rs1 = ShuffleSplit(n_splits=1, test_size=0.1)\n",
    "\n",
    "for train_index, val_index in rs1.split(delta_e_train):\n",
    "    train = delta_e_train[train_index]\n",
    "    val = delta_e_train[val_index]\n",
    "\n",
    "    composition_train = com_train[train_index]\n",
    "    composition_val = com_train[val_index]\n",
    "\n",
    "df_train = pd.DataFrame(dict(zip(['formula', 'target'],[composition_train, train])))\n",
    "name1 = 'train.csv'\n",
    "os.makedirs(data_dir, exist_ok=True)\n",
    "df_train.to_csv(f'{data_dir}/{name1}', index=False)\n",
    "\n",
    "df_val = pd.DataFrame(dict(zip(['formula', 'target'],[composition_val, val])))\n",
    "name2 = 'val.csv'\n",
    "os.makedirs(data_dir, exist_ok=True)\n",
    "df_val.to_csv(f'{data_dir}/{name2}', index=False)"
   ]
  },
  {
   "attachments": {},
   "cell_type": "markdown",
   "metadata": {},
   "source": [
    "### oqmd_all-22Mar18"
   ]
  },
  {
   "cell_type": "code",
   "execution_count": null,
   "metadata": {},
   "outputs": [],
   "source": [
    "X_df = pd.read_csv(r'D:\\deep\\CrabNet\\data\\application\\oqmd_all-22Mar18.csv')"
   ]
  },
  {
   "cell_type": "code",
   "execution_count": null,
   "metadata": {},
   "outputs": [],
   "source": [
    "def delta_e_convert_to_float(data):\n",
    "    return float(data.split('  ')[-2].strip())\n",
    "\n",
    "def com_convert_to_float(data):\n",
    "    return data.split('  ')[0].strip()"
   ]
  },
  {
   "cell_type": "code",
   "execution_count": null,
   "metadata": {},
   "outputs": [],
   "source": [
    "df_select_delta_e = X_df['comp energy_pa volume_pa magmom_pa bandgap delta_e stability'].apply(lambda row: delta_e_convert_to_float(row))\n",
    "df_select_com = X_df['comp energy_pa volume_pa magmom_pa bandgap delta_e stability'].apply(lambda row: com_convert_to_float(row))"
   ]
  },
  {
   "cell_type": "code",
   "execution_count": null,
   "metadata": {},
   "outputs": [
    {
     "data": {
      "text/plain": [
       "(620196,)"
      ]
     },
     "execution_count": 48,
     "metadata": {},
     "output_type": "execute_result"
    }
   ],
   "source": [
    "rs = ShuffleSplit(n_splits=1, test_size=0.15)\n",
    "\n",
    "for train_index, test_index in rs.split(df_select_delta_e):\n",
    "    delta_e_train = df_select_delta_e[train_index]\n",
    "    delta_e_test = df_select_delta_e[test_index]\n",
    "\n",
    "    com_train = df_select_com[train_index]\n",
    "    com_test = df_select_com[test_index]\n",
    "\n",
    "delta_e_col = X_df.columns.values.tolist()[0].split(' ')[-2]\n",
    "com_col = X_df.columns.values.tolist()[0].split(' ')[0]\n",
    "\n",
    "df_test = pd.DataFrame(dict(zip([com_col, delta_e_col],[com_test, delta_e_test])))\n",
    "seed_f_test = 'oqmd_delta_e_test.csv'\n",
    "data_dir = f'data/application' \n",
    "os.makedirs(data_dir, exist_ok=True)\n",
    "df_test = df_test.rename(columns={com_col:'formula',delta_e_col:'target'})\n",
    "df_test.to_csv(f'{data_dir}/{seed_f_test}', index=False)"
   ]
  },
  {
   "cell_type": "code",
   "execution_count": null,
   "metadata": {},
   "outputs": [],
   "source": [
    "rs1 = ShuffleSplit(n_splits=1, test_size=0.15)\n",
    "\n",
    "delta_e_train = delta_e_train.reset_index(drop=True)\n",
    "com_train = com_train.reset_index(drop=True)\n",
    "for train_index, val_index in rs1.split(delta_e_train):\n",
    "    train = delta_e_train[train_index]\n",
    "    val = delta_e_train[val_index]\n",
    "\n",
    "    composition_train = com_train[train_index]\n",
    "    composition_val = com_train[val_index]\n",
    "\n",
    "df_train = pd.DataFrame(dict(zip([com_col, delta_e_col],[composition_train, train])))\n",
    "seed_f_train = 'oqmd_delta_e_train.csv'\n",
    "os.makedirs(data_dir, exist_ok=True)\n",
    "df_train = df_train.rename(columns={com_col:'formula',delta_e_col:'target'})\n",
    "df_train.to_csv(f'{data_dir}/{seed_f_train}', index=False)\n",
    "\n",
    "df_val = pd.DataFrame(dict(zip([com_col, delta_e_col],[composition_val, val])))\n",
    "seed_f_val = 'oqmd_delta_e_val.csv'\n",
    "os.makedirs(data_dir, exist_ok=True)\n",
    "df_val = df_val.rename(columns={com_col:'formula',delta_e_col:'target'})\n",
    "df_val.to_csv(f'{data_dir}/{seed_f_val}', index=False)"
   ]
  },
  {
   "cell_type": "code",
   "execution_count": null,
   "metadata": {},
   "outputs": [
    {
     "data": {
      "text/plain": [
       "(79075,)"
      ]
     },
     "execution_count": 89,
     "metadata": {},
     "output_type": "execute_result"
    }
   ],
   "source": [
    "composition_val.shape"
   ]
  },
  {
   "cell_type": "code",
   "execution_count": null,
   "metadata": {},
   "outputs": [
    {
     "data": {
      "text/plain": [
       "(448091,)"
      ]
     },
     "execution_count": 90,
     "metadata": {},
     "output_type": "execute_result"
    }
   ],
   "source": [
    "composition_train.shape"
   ]
  },
  {
   "cell_type": "code",
   "execution_count": null,
   "metadata": {},
   "outputs": [
    {
     "data": {
      "text/plain": [
       "(93030,)"
      ]
     },
     "execution_count": 91,
     "metadata": {},
     "output_type": "execute_result"
    }
   ],
   "source": [
    "com_test.shape"
   ]
  },
  {
   "attachments": {},
   "cell_type": "markdown",
   "metadata": {},
   "source": [
    "## test"
   ]
  },
  {
   "cell_type": "code",
   "execution_count": null,
   "metadata": {},
   "outputs": [],
   "source": [
    "import pandas as pd\n",
    "from collections import OrderedDict\n",
    "from tqdm import tqdm\n",
    "from utils.composition import  _element_composition\n",
    "import numpy as np"
   ]
  },
  {
   "cell_type": "code",
   "execution_count": null,
   "metadata": {},
   "outputs": [],
   "source": [
    "\n",
    "mat_prop = 'OQMD_Formation_Enthalpy'\n",
    "file_name = 'Ti_O_application_test.csv'\n",
    "path = f'data/application/{mat_prop}/{file_name}'\n",
    "if isinstance(path, str):\n",
    "        df = pd.read_csv(path, keep_default_na=False, na_values=[''])\n",
    "else:\n",
    "        df = path"
   ]
  },
  {
   "cell_type": "code",
   "execution_count": null,
   "metadata": {},
   "outputs": [],
   "source": [
    "# if 'formula' not in df.columns.values.tolist():\n",
    "#         df['formula'] = df['cif_id'].str.split('_ICSD').str[0]\n",
    "\n",
    "df['count'] = [2 for _ in df['delta_e']]"
   ]
  },
  {
   "cell_type": "code",
   "execution_count": null,
   "metadata": {},
   "outputs": [],
   "source": [
    "df = df.rename(columns={\"X_O\": \"O\", \"X_Ti\": \"Ti\"})\n",
    "all_symbols = ['H', 'He', 'Li', 'Be', 'B', 'C', 'N', 'O', 'F', 'Ne', 'Na',\n",
    "                   'Mg', 'Al', 'Si', 'P', 'S', 'Cl', 'Ar', 'K', 'Ca', 'Sc',\n",
    "                   'Ti', 'V', 'Cr', 'Mn', 'Fe', 'Co', 'Ni', 'Cu', 'Zn', 'Ga',\n",
    "                   'Ge', 'As', 'Se', 'Br', 'Kr', 'Rb', 'Sr', 'Y', 'Zr', 'Nb',\n",
    "                   'Mo', 'Tc', 'Ru', 'Rh', 'Pd', 'Ag', 'Cd', 'In', 'Sn', 'Sb',\n",
    "                   'Te', 'I', 'Xe', 'Cs', 'Ba', 'La', 'Ce', 'Pr', 'Nd', 'Pm',\n",
    "                   'Sm', 'Eu', 'Gd', 'Tb', 'Dy', 'Ho', 'Er', 'Tm', 'Yb', 'Lu',\n",
    "                   'Hf', 'Ta', 'W', 'Re', 'Os', 'Ir', 'Pt', 'Au', 'Hg', 'Tl',\n",
    "                   'Pb', 'Bi', 'Po', 'At', 'Rn', 'Fr', 'Ra', 'Ac', 'Th', 'Pa',\n",
    "                   'U', 'Np', 'Pu', 'Am', 'Cm', 'Bk', 'Cf', 'Es', 'Fm', 'Md',\n",
    "                   'No', 'Lr', 'Rf', 'Db', 'Sg', 'Bh', 'Hs', 'Mt', 'Ds', 'Rg',\n",
    "                   'Cn', 'Nh', 'Fl', 'Mc', 'Lv', 'Ts', 'Og']\n",
    "data_type_np = np.float64\n",
    "verbose=True\n",
    "\n",
    "k = ['O','Ti']\n",
    "dic_compostion = [dict(zip(k,i)) for i in df[['O','Ti']].applymap(lambda x: '%.15f'%x).values.tolist()]\n",
    "\n",
    "list_ohm = [OrderedDict(form)\n",
    "                for form in dic_compostion]\n",
    "\n",
    "n_elements = 16\n",
    "elem_num = np.zeros(shape=(len(list_ohm), n_elements), dtype=data_type_np)\n",
    "elem_frac = np.zeros(shape=(len(list_ohm), n_elements), dtype=data_type_np)\n",
    "\n",
    "for i, comp in enumerate(tqdm(list_ohm,\n",
    "                                  desc=\"Generating EDM\",\n",
    "                                  unit=\"formulae\",\n",
    "                                  disable=not verbose)):\n",
    "        # print(comp)\n",
    "\n",
    "        for j, (elem, count) in enumerate(list_ohm[i].items()):\n",
    "            # print(type(elem), type(count))\n",
    "            if j == n_elements:\n",
    "                # Truncate EDM representation to n_elements\n",
    "                break\n",
    "            try:\n",
    "                # edm_array[i, j, all_symbols.index(elem) + 1] = count\n",
    "                elem_frac[i, j] = float(count)\n",
    "                elem_num[i, j] = all_symbols.index(elem) + 1\n",
    "            except ValueError:\n",
    "                print(f'skipping composition {comp}')\n",
    "if n_elements == 16:\n",
    "        n_elements = np.max(np.sum(elem_frac > 0, axis=1, keepdims=True))\n",
    "        elem_num = elem_num[:, :n_elements]\n",
    "        elem_frac = elem_frac[:, :n_elements]\n",
    "\n",
    "elem_num = elem_num.reshape(elem_num.shape[0], elem_num.shape[1], 1)\n",
    "elem_frac = elem_frac.reshape(elem_frac.shape[0], elem_frac.shape[1], 1)\n",
    "out = np.concatenate((elem_num, elem_frac), axis=1)"
   ]
  },
  {
   "cell_type": "code",
   "execution_count": null,
   "metadata": {},
   "outputs": [
    {
     "data": {
      "text/plain": [
       "0.96"
      ]
     },
     "execution_count": 10,
     "metadata": {},
     "output_type": "execute_result"
    }
   ],
   "source": [
    "round(float(count),2)"
   ]
  },
  {
   "cell_type": "code",
   "execution_count": null,
   "metadata": {},
   "outputs": [
    {
     "data": {
      "text/plain": [
       "array([[ 8.],\n",
       "       [22.]])"
      ]
     },
     "execution_count": 11,
     "metadata": {},
     "output_type": "execute_result"
    }
   ],
   "source": [
    "elem_num[0]"
   ]
  },
  {
   "cell_type": "code",
   "execution_count": null,
   "metadata": {},
   "outputs": [
    {
     "data": {
      "text/plain": [
       "array([[0.5],\n",
       "       [0.5]])"
      ]
     },
     "execution_count": 10,
     "metadata": {},
     "output_type": "execute_result"
    }
   ],
   "source": [
    "elem_frac[0]"
   ]
  },
  {
   "cell_type": "code",
   "execution_count": null,
   "metadata": {},
   "outputs": [],
   "source": []
  }
 ],
 "metadata": {
  "kernelspec": {
   "display_name": "Python 3.7.13 ('pytorch')",
   "language": "python",
   "name": "python3"
  },
  "language_info": {
   "codemirror_mode": {
    "name": "ipython",
    "version": 3
   },
   "file_extension": ".py",
   "mimetype": "text/x-python",
   "name": "python",
   "nbconvert_exporter": "python",
   "pygments_lexer": "ipython3",
   "version": "3.8.17"
  },
  "orig_nbformat": 4,
  "vscode": {
   "interpreter": {
    "hash": "7dd5d76405b906035e1d1a24c7f24088f68ab8fc773386bbbd9b8e7c7c6d48a3"
   }
  }
 },
 "nbformat": 4,
 "nbformat_minor": 2
}
